{
 "cells": [
  {
   "cell_type": "code",
   "execution_count": 1,
   "id": "edb695eb",
   "metadata": {},
   "outputs": [],
   "source": [
    "import numpy as np\n",
    "import datetime\n",
    "from netCDF4 import Dataset\n",
    "import itertools\n",
    "import matplotlib.pyplot as plt\n",
    "from matplotlib import gridspec\n",
    "import tqdm\n",
    "from scipy.stats import linregress\n",
    "import warnings\n",
    "warnings.filterwarnings(\"ignore\")"
   ]
  },
  {
   "cell_type": "code",
   "execution_count": 2,
   "id": "9ff30dc1",
   "metadata": {},
   "outputs": [],
   "source": [
    "# create days and dates list from 01/10/2010 - 30/04/2011\n",
    "days_short = np.arange(0,212)\n",
    "dates_short = [datetime.date(2010,10,1)+datetime.timedelta(days=np.int(days)) for days in days_short]\n",
    "doys_short = np.array([x.timetuple().tm_yday for x in dates_short])\n",
    "# create days and dates list from 01/01/2010 - 30/04/2021\n",
    "days_long = np.arange(0,4138)\n",
    "dates_long = [datetime.date(2010,1,1)+datetime.timedelta(days=np.int(days)) for days in days_long]\n",
    "doys_long = np.array([x.timetuple().tm_yday for x in dates_long])"
   ]
  },
  {
   "cell_type": "code",
   "execution_count": 3,
   "id": "b2ab8d21",
   "metadata": {},
   "outputs": [],
   "source": [
    "snow = 'SMLG_ERA5'"
   ]
  },
  {
   "cell_type": "markdown",
   "id": "4e54b55e",
   "metadata": {},
   "source": [
    "### load buoy data and create buoy climatology"
   ]
  },
  {
   "cell_type": "code",
   "execution_count": 4,
   "id": "d2398371",
   "metadata": {},
   "outputs": [],
   "source": [
    "datapath = '/Users/carmennab/Dropbox/alpha_retracker/data/validation/BGEP/'\n",
    "bgep_a = np.asarray(Dataset(datapath+'ULS_A/'+snow+'_SIT_EASE_01Jan2010-31Jul2021.nc')['Sea Ice Thickness'])[:4138]\n",
    "bgep_b = np.asarray(Dataset(datapath+'ULS_B/'+snow+'_SIT_EASE_01Jan2010-31Jul2021.nc')['Sea Ice Thickness'])[:4138]\n",
    "bgep_d = np.asarray(Dataset(datapath+'ULS_D/'+snow+'_SIT_EASE_01Jan2010-31Jul2021.nc')['Sea Ice Thickness'])[:4138]"
   ]
  },
  {
   "cell_type": "code",
   "execution_count": 5,
   "id": "6d6ad832",
   "metadata": {},
   "outputs": [],
   "source": [
    "days = np.arange(0,367)\n",
    "buoya_avs = np.array([np.nanmean(bgep_a[doys_long==day]) for day in days])\n",
    "buoyb_avs = np.array([np.nanmean(bgep_b[doys_long==day]) for day in days])\n",
    "buoyd_avs = np.array([np.nanmean(bgep_d[doys_long==day]) for day in days])\n",
    "\n",
    "buoya_anoms = np.array([buoy-buoya_avs[doy] for doy,buoy in zip(doys_long,bgep_a)])\n",
    "buoyb_anoms = np.array([buoy-buoyb_avs[doy] for doy,buoy in zip(doys_long,bgep_b)])\n",
    "buoyd_anoms = np.array([buoy-buoyd_avs[doy] for doy,buoy in zip(doys_long,bgep_d)])\n",
    "\n",
    "buoy_anoms = np.concatenate((buoya_anoms,buoyb_anoms,buoyd_anoms),axis = 0)"
   ]
  },
  {
   "cell_type": "markdown",
   "id": "a89fe669",
   "metadata": {},
   "source": [
    "### calculate optimal alpha for full season"
   ]
  },
  {
   "cell_type": "code",
   "execution_count": 6,
   "id": "10c1c142",
   "metadata": {},
   "outputs": [],
   "source": [
    "#### one giant buoy\n",
    "datapath = '/Users/carmennab/Dropbox/alpha_retracker/data/sit/'\n",
    "names = ['CPOM','AWI','LARM']\n",
    "alphas = np.arange(0,101)\n",
    "all_rs = {}\n",
    "\n",
    "for name in names:\n",
    "    rs = np.full(101,np.nan)\n",
    "    for alpha in alphas:\n",
    "        a = np.asarray(Dataset(datapath+snow+'_'+name+'/ULS_A/a'+str(alpha)+'.nc')['Sea Ice Thickness'])\n",
    "        b = np.asarray(Dataset(datapath+snow+'_'+name+'/ULS_B/a'+str(alpha)+'.nc')['Sea Ice Thickness'])\n",
    "        d = np.asarray(Dataset(datapath+snow+'_'+name+'/ULS_D/a'+str(alpha)+'.nc')['Sea Ice Thickness'])\n",
    "\n",
    "        ### create daily climatology for cs2\n",
    "        cs2a_avs = np.array([np.nanmean(a[doys_long==day]) for day in days])\n",
    "        cs2b_avs = np.array([np.nanmean(b[doys_long==day]) for day in days])\n",
    "        cs2d_avs = np.array([np.nanmean(d[doys_long==day]) for day in days])\n",
    "        \n",
    "        cs2a_anoms = np.array([cs2-cs2a_avs[doy] for doy,cs2 in zip(doys_long,a)])\n",
    "        cs2b_anoms = np.array([cs2-cs2b_avs[doy] for doy,cs2 in zip(doys_long,b)])\n",
    "        cs2d_anoms = np.array([cs2-cs2d_avs[doy] for doy,cs2 in zip(doys_long,d)])\n",
    "        \n",
    "        ### create daily anomalies for cs2\n",
    "        cs2_anoms = np.concatenate((cs2a_anoms,cs2b_anoms,cs2d_anoms),axis = 0) \n",
    "        \n",
    "        ### calculate alpha\n",
    "        mask = ~np.isnan(buoy_anoms) & ~np.isnan(cs2_anoms)\n",
    "        \n",
    "        rstats = linregress(buoy_anoms[mask],cs2_anoms[mask]) \n",
    "        p = rstats.pvalue\n",
    "        if p <=0.05:\n",
    "            rs[alpha] = rstats.rvalue\n",
    "            \n",
    "    rs[rs<0] = np.nan\n",
    "    all_rs[name] = rs"
   ]
  },
  {
   "cell_type": "code",
   "execution_count": 7,
   "id": "d8da21b1",
   "metadata": {},
   "outputs": [
    {
     "data": {
      "text/plain": [
       "[6305]"
      ]
     },
     "execution_count": 7,
     "metadata": {},
     "output_type": "execute_result"
    }
   ],
   "source": [
    "ns = []\n",
    "all_mask = np.where((~np.isnan(buoy_anoms)) & (~np.isnan(cs2_anoms)))\n",
    "ns.append(buoy_anoms[mask].shape[0])\n",
    "ns"
   ]
  },
  {
   "cell_type": "markdown",
   "id": "b26997dd",
   "metadata": {},
   "source": [
    "### calculate optimal alpha over FYI / MYI"
   ]
  },
  {
   "cell_type": "code",
   "execution_count": 8,
   "id": "17617278",
   "metadata": {},
   "outputs": [
    {
     "data": {
      "text/plain": [
       "(12414,)"
      ]
     },
     "execution_count": 8,
     "metadata": {},
     "output_type": "execute_result"
    }
   ],
   "source": [
    "datapath = '/Users/carmennab/Dropbox/alpha_retracker/data/icetype/'\n",
    "it_a = np.array(Dataset(datapath + 'ULS_A.nc')['Ice Type'])\n",
    "it_b = np.array(Dataset(datapath + 'ULS_B.nc')['Ice Type'])\n",
    "it_d = np.array(Dataset(datapath + 'ULS_D.nc')['Ice Type'])\n",
    "icetype = np.concatenate((it_a,it_b,it_d),axis = 0)\n",
    "icetype.shape"
   ]
  },
  {
   "cell_type": "code",
   "execution_count": 9,
   "id": "5c41027d",
   "metadata": {},
   "outputs": [
    {
     "data": {
      "text/plain": [
       "(5458,)"
      ]
     },
     "execution_count": 9,
     "metadata": {},
     "output_type": "execute_result"
    }
   ],
   "source": [
    "clean_icetypes=icetype.copy()\n",
    "clean_icetypes[np.isnan(cs2_anoms)] = np.nan\n",
    "clean_icetypes[np.isnan(buoy_anoms)]=np.nan\n",
    "clean_icetypes[~np.isnan(clean_icetypes)].shape"
   ]
  },
  {
   "cell_type": "code",
   "execution_count": 10,
   "id": "c1910fe5",
   "metadata": {},
   "outputs": [],
   "source": [
    "fyi_buoys = buoy_anoms.copy()\n",
    "fyi_buoys[clean_icetypes == 3] = np.nan # remove myi\n",
    "fyi_buoys[np.isnan(clean_icetypes)] = np.nan\n",
    "ns.append(fyi_buoys[~np.isnan(fyi_buoys)].shape[0])\n",
    "\n",
    "myi_buoys = buoy_anoms.copy()\n",
    "myi_buoys[clean_icetypes == 2] = np.nan # remove fyi\n",
    "myi_buoys[np.isnan(clean_icetypes)] = np.nan\n",
    "ns.append(myi_buoys[~np.isnan(myi_buoys)].shape[0])"
   ]
  },
  {
   "cell_type": "code",
   "execution_count": 11,
   "id": "85e761c8",
   "metadata": {},
   "outputs": [],
   "source": [
    "#### one giant buoy\n",
    "datapath = '/Users/carmennab/Dropbox/alpha_retracker/data/sit/'\n",
    "alphas = np.arange(0,101)\n",
    "all_fyi = {}\n",
    "all_myi = {}\n",
    "\n",
    "for name in names:\n",
    "    rs_fyi = np.full(101,np.nan)\n",
    "    rs_myi = np.full(101,np.nan)\n",
    "\n",
    "    for alpha in alphas:\n",
    "        a = np.asarray(Dataset(datapath+snow+'_'+name+'/ULS_A/a'+str(alpha)+'.nc')['Sea Ice Thickness'])\n",
    "        b = np.asarray(Dataset(datapath+snow+'_'+name+'/ULS_B/a'+str(alpha)+'.nc')['Sea Ice Thickness'])\n",
    "        d = np.asarray(Dataset(datapath+snow+'_'+name+'/ULS_D/a'+str(alpha)+'.nc')['Sea Ice Thickness'])\n",
    "\n",
    "        ### create daily climatology for cs2\n",
    "        cs2a_avs = np.array([np.nanmean(a[doys_long==day]) for day in days])\n",
    "        cs2b_avs = np.array([np.nanmean(b[doys_long==day]) for day in days])\n",
    "        cs2d_avs = np.array([np.nanmean(d[doys_long==day]) for day in days])\n",
    "        \n",
    "        cs2a_anoms = np.array([cs2-cs2a_avs[doy] for doy,cs2 in zip(doys_long,a)])\n",
    "        cs2b_anoms = np.array([cs2-cs2b_avs[doy] for doy,cs2 in zip(doys_long,b)])\n",
    "        cs2d_anoms = np.array([cs2-cs2d_avs[doy] for doy,cs2 in zip(doys_long,d)])\n",
    "        \n",
    "        ### create daily anomalies for cs2\n",
    "        cs2_anoms = np.concatenate((cs2a_anoms,cs2b_anoms,cs2d_anoms),axis = 0) \n",
    "\n",
    "        ### calculate alpha fyi: \n",
    "        mask_fyi = ~np.isnan(fyi_buoys) & ~np.isnan(cs2_anoms) \n",
    "        rstats = linregress(fyi_buoys[mask_fyi],cs2_anoms[mask_fyi]) \n",
    "        p = rstats.pvalue\n",
    "        if p <=0.05:\n",
    "            rs_fyi[alpha] = rstats.rvalue\n",
    "                        \n",
    "        ### calculate alpha myi:\n",
    "        mask_myi = ~np.isnan(myi_buoys) & ~np.isnan(cs2_anoms)\n",
    "        rstats = linregress(myi_buoys[mask_myi],cs2_anoms[mask_myi]) \n",
    "        p = rstats.pvalue\n",
    "        if p <=0.05:\n",
    "            rs_myi[alpha] = rstats.rvalue\n",
    "            \n",
    "    rs_fyi[rs_fyi<0] = np.nan\n",
    "    rs_myi[rs_myi<0] = np.nan\n",
    "                        \n",
    "    all_fyi[name] = rs_fyi\n",
    "    all_myi[name] = rs_myi"
   ]
  },
  {
   "cell_type": "markdown",
   "id": "9f860285",
   "metadata": {},
   "source": [
    "### calculate optimal alpha at different temperatures"
   ]
  },
  {
   "cell_type": "code",
   "execution_count": 12,
   "id": "ecad4f5b",
   "metadata": {},
   "outputs": [],
   "source": [
    "datapath = '/Users/carmennab/Dropbox/alpha_retracker/data/temperature/'\n",
    "temp_a = np.array(Dataset(datapath + 'ERA5_temp_ULS_A.nc')['Air Temperature'])\n",
    "temp_b = np.array(Dataset(datapath + 'ERA5_temp_ULS_B.nc')['Air Temperature'])\n",
    "temp_d = np.array(Dataset(datapath + 'ERA5_temp_ULS_D.nc')['Air Temperature'])\n",
    "mean_temps = np.nanmean(np.array([temp_a,temp_b,temp_d]),axis = 0)\n",
    "temps = np.concatenate((temp_a,temp_b,temp_d),axis = 0)"
   ]
  },
  {
   "cell_type": "code",
   "execution_count": 13,
   "id": "6e8a3bcd",
   "metadata": {},
   "outputs": [
    {
     "data": {
      "text/plain": [
       "(6305,)"
      ]
     },
     "execution_count": 13,
     "metadata": {},
     "output_type": "execute_result"
    }
   ],
   "source": [
    "clean_temps = temps.copy()\n",
    "\n",
    "clean_buoys = buoy_anoms.copy()\n",
    "clean_buoys[np.isnan(clean_temps)]=np.nan\n",
    "clean_buoys[np.isnan(cs2_anoms)]=np.nan\n",
    "\n",
    "q_temps = clean_temps[~np.isnan(clean_buoys)]\n",
    "q_temps.shape"
   ]
  },
  {
   "cell_type": "code",
   "execution_count": 14,
   "id": "33dc856b",
   "metadata": {},
   "outputs": [],
   "source": [
    "q = np.quantile(q_temps,q=np.arange(0,1.01,1/3))\n",
    "\n",
    "cold_buoys = clean_buoys.copy()\n",
    "cold_buoys[clean_temps > q[1]] = np.nan \n",
    "\n",
    "ns.append(cold_buoys[~np.isnan(cold_buoys)].shape[0])\n",
    "\n",
    "warm_buoys = clean_buoys.copy()\n",
    "warm_buoys[clean_temps> q[2]] = np.nan \n",
    "warm_buoys[clean_temps< q[1]] = np.nan \n",
    "\n",
    "ns.append(warm_buoys[~np.isnan(warm_buoys)].shape[0])\n",
    "\n",
    "hot_buoys = clean_buoys.copy()\n",
    "hot_buoys[clean_temps < q[2]] = np.nan \n",
    "hot_buoys[clean_temps > q[3]] = np.nan \n",
    "\n",
    "ns.append(hot_buoys[~np.isnan(hot_buoys)].shape[0])"
   ]
  },
  {
   "cell_type": "code",
   "execution_count": 15,
   "id": "654b0ece",
   "metadata": {},
   "outputs": [],
   "source": [
    "#### one giant buoy\n",
    "datapath = '/Users/carmennab/Dropbox/alpha_retracker/data/sit/'\n",
    "alphas = np.arange(0,101)\n",
    "all_hot = {}\n",
    "all_warm = {}\n",
    "all_cold = {}\n",
    "\n",
    "for name in names:\n",
    "    rs_hot = np.full(101,np.nan)\n",
    "    rs_warm = np.full(101,np.nan)\n",
    "    rs_cold = np.full(101,np.nan)\n",
    "    for alpha in alphas:\n",
    "        a = np.asarray(Dataset(datapath+snow+'_'+name+'/ULS_A/a'+str(alpha)+'.nc')['Sea Ice Thickness'])\n",
    "        b = np.asarray(Dataset(datapath+snow+'_'+name+'/ULS_B/a'+str(alpha)+'.nc')['Sea Ice Thickness'])\n",
    "        d = np.asarray(Dataset(datapath+snow+'_'+name+'/ULS_D/a'+str(alpha)+'.nc')['Sea Ice Thickness'])\n",
    "\n",
    "        ### create daily climatology for cs2\n",
    "        cs2a_avs = np.array([np.nanmean(a[doys_long==day]) for day in days])\n",
    "        cs2b_avs = np.array([np.nanmean(b[doys_long==day]) for day in days])\n",
    "        cs2d_avs = np.array([np.nanmean(d[doys_long==day]) for day in days])\n",
    "        \n",
    "        cs2a_anoms = np.array([cs2-cs2a_avs[doy] for doy,cs2 in zip(doys_long,a)])\n",
    "        cs2b_anoms = np.array([cs2-cs2b_avs[doy] for doy,cs2 in zip(doys_long,b)])\n",
    "        cs2d_anoms = np.array([cs2-cs2d_avs[doy] for doy,cs2 in zip(doys_long,d)])\n",
    "        \n",
    "        ### create daily anomalies for cs2\n",
    "        cs2_anoms = np.concatenate((cs2a_anoms,cs2b_anoms,cs2d_anoms),axis = 0) \n",
    "        \n",
    "        ### calculate alpha hot:  upper tercile\n",
    "        mask_hot = ~np.isnan(hot_buoys) & ~np.isnan(cs2_anoms) \n",
    "        rstats = linregress(hot_buoys[mask_hot],cs2_anoms[mask_hot]) \n",
    "        p = rstats.pvalue\n",
    "        if p <=0.05:\n",
    "            rs_hot[alpha] = rstats.rvalue\n",
    "                        \n",
    "        ### calculate alpha warm: middle tercile\n",
    "        mask_warm = ~np.isnan(warm_buoys) & ~np.isnan(cs2_anoms)\n",
    "\n",
    "        rstats = linregress(warm_buoys[mask_warm],cs2_anoms[mask_warm]) \n",
    "        p = rstats.pvalue\n",
    "        if p <=0.05:\n",
    "            rs_warm[alpha] = rstats.rvalue\n",
    "\n",
    "        ### calculate alpha cold: lower tercile\n",
    "        mask_cold = ~np.isnan(cold_buoys) & ~np.isnan(cs2_anoms)\n",
    "        rstats = linregress(cold_buoys[mask_cold],cs2_anoms[mask_cold]) \n",
    "        p = rstats.pvalue\n",
    "        if p <=0.05:\n",
    "            rs_cold[alpha] = rstats.rvalue\n",
    "            \n",
    "    rs_hot[rs_hot<0] = np.nan\n",
    "    rs_warm[rs_warm<0] = np.nan\n",
    "    rs_cold[rs_cold<0] = np.nan\n",
    "                        \n",
    "    all_hot[name] = rs_hot\n",
    "    all_warm[name] = rs_warm\n",
    "    all_cold[name] = rs_cold"
   ]
  },
  {
   "cell_type": "markdown",
   "id": "b930d9a9",
   "metadata": {},
   "source": [
    "### plot figures showing all results"
   ]
  },
  {
   "cell_type": "code",
   "execution_count": 16,
   "id": "7c437806",
   "metadata": {},
   "outputs": [
    {
     "data": {
      "image/png": "[encoded data removed]",
      "text/plain": [
       "<Figure size 648x648 with 6 Axes>"
      ]
     },
     "metadata": {
      "needs_background": "light"
     },
     "output_type": "display_data"
    }
   ],
   "source": [
    "fig = plt.figure(figsize=(9,9))\n",
    "plt.rcParams.update({'mathtext.default':  'regular' })\n",
    "plt.rc('font', size=8)\n",
    "spec = gridspec.GridSpec(ncols=3, nrows=3, wspace=0.1, hspace=0.2)\n",
    "names = ['Combined','First-Year Ice','Multi-Year Ice',\n",
    "         '-34\\u00B0C < T < -24\\u00B0C','-24\\u00B0C <T < -17\\u00B0C','-17\\u00B0C < T < 0\\u00B0C']\n",
    "nums = ['(a)','(b)','(c)','(d)','(e)','(f)']\n",
    "rs = [all_rs, all_fyi,all_myi,all_cold,all_warm,all_hot]\n",
    "\n",
    "for c,r in enumerate(rs):\n",
    "    ax = plt.subplot(spec[c])\n",
    "    ax.plot(alphas/100, r['CPOM'],label = 'CPOM',color='#5aae61')\n",
    "    ax.plot((np.nanargmax(r['CPOM'])/100),np.nanmax(r['CPOM']),'x',color='#5aae61')\n",
    "    ax.text(0.81, 0.9, f\"\\u03B1$_O$ = {(np.nanargmax(r['CPOM'])/100):.2f}\", ha='center',color='#5aae61',\n",
    "            weight='bold',transform = ax.transAxes)       \n",
    "    \n",
    "    ax.plot(alphas/100, r['AWI'],label = 'AWI',color='#9970ab')\n",
    "    ax.plot((np.nanargmax(r['AWI'])/100),np.nanmax(r['AWI']),'x',color='#9970ab')\n",
    "    ax.text(0.81, 0.82, f\"\\u03B1$_O$ = {(np.nanargmax(r['AWI'])/100):.2f}\", ha='center',color='#9970ab',\n",
    "            weight='bold',transform = ax.transAxes)\n",
    "    \n",
    "    ax.plot(alphas/100, r['LARM'],label = 'LARM',color='orange')\n",
    "    ax.plot((np.nanargmax(r['LARM'])/100),np.nanmax(r['LARM']),'x',color='orange')\n",
    "    ax.text(0.81, 0.74, f\"\\u03B1$_O$ = {(np.nanargmax(r['LARM'])/100):.2f}\", ha='center',color='orange',\n",
    "            weight='bold',transform = ax.transAxes) \n",
    "\n",
    "    ax.text(0.04, 1.05,nums[c], ha='center',color='k',weight='bold',transform = ax.transAxes,fontsize=10)\n",
    "    ax.text(0.04, 0.92,f\"n = {ns[c]}\", ha='left',color='k',transform = ax.transAxes,fontsize=10)\n",
    "    \n",
    "    ax.set_xlim([0,1])\n",
    "    if c == 0:\n",
    "        [x.set_linewidth(1.5) for x in ax.spines.values()]\n",
    "        ax.set_title(names[c],weight = 'bold',fontsize=11)\n",
    "    else:\n",
    "        ax.set_title(names[c],fontsize=11)\n",
    "    if c<3:\n",
    "        ax.set_xticks([])\n",
    "    if c in [1,2,4,5]:\n",
    "        ax.set_yticks([])\n",
    "    if c in [3,4,5]:\n",
    "        ax.set_xlabel('Radar Penetration (\\u03B1)',labelpad=10,fontsize=10)\n",
    "    ax.set_ylim([0,1])\n",
    "    if c in [0,3]:\n",
    "        ax.set_ylabel('Linear Correlation\\nCoefficient (r)',labelpad=10,fontsize=10)\n",
    "    \n",
    "    if c == 5:\n",
    "        ax.legend(bbox_to_anchor = (1.4, 0.32))\n",
    "          \n",
    "plt.savefig('/Users/carmennab/Dropbox/Apps/Overleaf/Alpha Retracker/supp_figs/optimal_alpha_combined_larm.jpg',\n",
    "            bbox_inches = \"tight\", dpi = 400)"
   ]
  }
 ],
 "metadata": {
  "kernelspec": {
   "display_name": "Python 3 (ipykernel)",
   "language": "python",
   "name": "python3"
  },
  "language_info": {
   "codemirror_mode": {
    "name": "ipython",
    "version": 3
   },
   "file_extension": ".py",
   "mimetype": "text/x-python",
   "name": "python",
   "nbconvert_exporter": "python",
   "pygments_lexer": "ipython3",
   "version": "3.8.15"
  }
 },
 "nbformat": 4,
 "nbformat_minor": 5
}
