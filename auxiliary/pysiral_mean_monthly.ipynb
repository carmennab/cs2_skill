{
 "cells": [
  {
   "cell_type": "code",
   "execution_count": 1,
   "id": "b606ca7f",
   "metadata": {},
   "outputs": [],
   "source": [
    "import numpy as np\n",
    "from netCDF4 import Dataset\n",
    "import matplotlib.pyplot as plt\n",
    "from pyproj import Proj, Transformer\n",
    "import scipy\n",
    "import os\n",
    "import pandas as pd\n",
    "import warnings\n",
    "warnings.filterwarnings(\"ignore\")"
   ]
  },
  {
   "cell_type": "markdown",
   "id": "584524d4",
   "metadata": {},
   "source": [
    "### load function to convert lonlat to xy"
   ]
  },
  {
   "cell_type": "code",
   "execution_count": 2,
   "id": "02b24082",
   "metadata": {},
   "outputs": [],
   "source": [
    "def lonlat_to_xy(coords_1, coords_2, hemisphere, inverse=False):\n",
    "\n",
    "    \"\"\"Converts between longitude/latitude and EASE xy coordinates.\n",
    " \n",
    "    Args:\n",
    "        lon (float): WGS84 longitude\n",
    "        lat (float): WGS84 latitude\n",
    "        hemisphere (string): 'n' or 's'\n",
    "        inverse (bool): if true, converts xy to lon/lat\n",
    " \n",
    "    Returns:\n",
    "        tuple: pair of xy or lon/lat values\n",
    "    \"\"\"\n",
    "\n",
    "    EASE_Proj = {'n': 'EPSG:3408',\n",
    "                 's': 'EPGS:3409'}\n",
    "    \n",
    "    WGS_Proj = 'EPSG:4326'\n",
    "    \n",
    "    for coords in [coords_1, coords_2]: assert isinstance(coords,(np.ndarray,list))\n",
    "\n",
    "    if inverse == False: # lonlat to xy\n",
    "        \n",
    "        lon, lat = coords_1, coords_2\n",
    "        \n",
    "        transformer = Transformer.from_crs(WGS_Proj, EASE_Proj[hemisphere])\n",
    "        \n",
    "        x, y = transformer.transform(lat, lon)\n",
    "        \n",
    "        return (x, y)\n",
    "\n",
    "    else: # xy to lonlat\n",
    "        \n",
    "        x, y = coords_1, coords_2\n",
    "        \n",
    "        transformer = Transformer.from_crs(EASE_Proj[hemisphere], WGS_Proj)\n",
    "        \n",
    "        lat, lon = transformer.transform(x, y)\n",
    "        \n",
    "        return (lon, lat)"
   ]
  },
  {
   "cell_type": "markdown",
   "id": "be3ab2d8",
   "metadata": {},
   "source": [
    "### load buoy days and coordinates"
   ]
  },
  {
   "cell_type": "code",
   "execution_count": null,
   "id": "c396cd29",
   "metadata": {},
   "outputs": [],
   "source": [
    "datapath = '/home/cjn/alpha_retracker/pysiral/'\n",
    "buoy_locs = pd.read_csv(datapath+'locs.csv')\n",
    "buoy_locs"
   ]
  },
  {
   "cell_type": "markdown",
   "id": "ca657e90",
   "metadata": {},
   "source": [
    "### load function to calculate monthly average at each buoy "
   ]
  },
  {
   "cell_type": "code",
   "execution_count": 4,
   "id": "0ad06100",
   "metadata": {},
   "outputs": [],
   "source": [
    "def monthly_means(buoy):\n",
    "    \n",
    "    buoy_df=[]\n",
    "    \n",
    "    for threshold in np.arange(50,1000,25): ### loop through thresholds\n",
    "        \n",
    "        for year in np.arange(2010,2022): ### loop through years\n",
    "            \n",
    "            for month in np.arange(1,13): ### loop through months\n",
    "                \n",
    "                folder_path = f\"{datapath_in}vthres{threshold:03d}/l2p/{year}/{month:02d}/\"\n",
    "                \n",
    "                if os.path.exists(folder_path) == True: ### check if data exists\n",
    "                    monthly_coords = buoy_locs[buoy_locs['month']==month][buoy_locs['year']==year][buoy_locs['mooring']==buoy]\n",
    "                    \n",
    "                    if len(monthly_coords)>0: ### check if buoy coords exist\n",
    "                        buoy_lon = monthly_coords['lon'].iloc[0]\n",
    "                        buoy_lat = monthly_coords['lat'].iloc[0]\n",
    "                        buoy_x, buoy_y = lonlat_to_xy(np.array(buoy_lon),np.array(buoy_lat),hemisphere='n') \n",
    "                     \n",
    "                        monthly_values = []\n",
    "                        files = os.listdir(folder_path)\n",
    "\n",
    "                        for file in files:\n",
    "                            values = [] ### make list of all values\n",
    "                            cs2_lons = np.array(Dataset(folder_path+file)['longitude'])\n",
    "                            cs2_lats = np.array(Dataset(folder_path+file)['latitude'])\n",
    "                            cs2_x,cs2_y = lonlat_to_xy(cs2_lons,cs2_lats,hemisphere='n')\n",
    "                            KDTree = scipy.spatial.cKDTree(list(zip(cs2_x,cs2_y)))\n",
    "                            hits = KDTree.query_ball_point(x=[buoy_x,buoy_y],r=radius*1000)\n",
    "\n",
    "                            if len(hits)>0: ### if values within buoy radius\n",
    "                                cs2_rf = np.array(Dataset(folder_path+file)['radar_freeboard'])\n",
    "                                monthly_values.append(cs2_rf[hits]) ## append values for this track\n",
    "\n",
    "                        if len(monthly_values)>0:\n",
    "                            monthly_mean = np.nanmean(np.hstack(monthly_values)) ### take mean of all values\n",
    "                            if ~np.isnan(monthly_mean):\n",
    "                                buoy_df.append({\"year\":year,\"month\":month,\"mean_radar_freeboard\":monthly_mean,\n",
    "                                                \"threshold\":threshold/10})\n",
    "\n",
    "    mean_radar_freeboards = pd.DataFrame(buoy_df)\n",
    "    mean_radar_freeboards.to_csv(f'{datapath_out}/mean_rf_mooring_{buoy}.csv', index=False)"
   ]
  },
  {
   "cell_type": "markdown",
   "id": "cc20122b",
   "metadata": {},
   "source": [
    "### make dataframe of monthly buoy mean radar freeboards"
   ]
  },
  {
   "cell_type": "code",
   "execution_count": null,
   "id": "344fc913",
   "metadata": {
    "scrolled": true
   },
   "outputs": [],
   "source": [
    "datapath_in = '/home/cn/cs2_alpha/DATA/cs2_l2/'\n",
    "datapath_out = '/home/cjn/alpha_retracker/pysiral/'\n",
    "\n",
    "radius = 25 ### km radius from buoy\n",
    "\n",
    "for buoy in ['a','b','d','f11','f12','f13','f14']:\n",
    "\n",
    "    monthly_means(buoy)"
   ]
  }
 ],
 "metadata": {
  "kernelspec": {
   "display_name": "Python 3 (ipykernel)",
   "language": "python",
   "name": "python3"
  },
  "language_info": {
   "codemirror_mode": {
    "name": "ipython",
    "version": 3
   },
   "file_extension": ".py",
   "mimetype": "text/x-python",
   "name": "python",
   "nbconvert_exporter": "python",
   "pygments_lexer": "ipython3",
   "version": "3.8.15"
  }
 },
 "nbformat": 4,
 "nbformat_minor": 5
}
