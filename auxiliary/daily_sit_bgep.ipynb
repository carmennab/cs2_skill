{
 "cells": [
  {
   "cell_type": "code",
   "execution_count": 1,
   "id": "03fbdfa1",
   "metadata": {},
   "outputs": [],
   "source": [
    "from netCDF4 import Dataset\n",
    "import numpy as np\n",
    "import datetime\n",
    "import matplotlib.pyplot as plt\n",
    "import xarray as xr\n",
    "import cartopy.crs as ccrs\n",
    "import cartopy\n",
    "import tqdm\n",
    "import warnings\n",
    "warnings.filterwarnings(\"ignore\")"
   ]
  },
  {
   "cell_type": "markdown",
   "id": "b70b9a12",
   "metadata": {},
   "source": [
    "### load common files"
   ]
  },
  {
   "cell_type": "code",
   "execution_count": 2,
   "id": "3895d12e",
   "metadata": {},
   "outputs": [],
   "source": [
    "datapath = '/Users/carmennab/Dropbox/alpha_retracker/data/'\n",
    "ice_type = np.array(Dataset(datapath+'auxiliary/icetype_01012010-30042021.nc')['Ice Type'])\n",
    "\n",
    "rho_fyi = 916.7  \n",
    "rho_myi = 882.\n",
    "rho_w = 1023.9\n",
    "c = 3.\n",
    "cs = 2.4\n",
    "\n",
    "ease_lats = np.asarray(Dataset(datapath+'snow/SMLG_ERA5_01Jan2010-31Jul2021.nc')['Latitude'])\n",
    "ease_lons = np.asarray(Dataset(datapath+'snow/SMLG_ERA5_01Jan2010-31Jul2021.nc')['Longitude'])"
   ]
  },
  {
   "cell_type": "markdown",
   "id": "6af52650",
   "metadata": {},
   "source": [
    "### load buoy grid cell locations"
   ]
  },
  {
   "cell_type": "code",
   "execution_count": 3,
   "id": "9cbde12d",
   "metadata": {},
   "outputs": [],
   "source": [
    "### ULS_A\n",
    "a_days = [np.arange(272,575), # 30/09/10 - 30/07/11 \n",
    "        np.arange(575,954), # 31/07/11 - 12/08/12 \n",
    "        np.arange(956,1322), # 14/08/12 - 14/08/13\n",
    "        np.arange(1322,1735), # 15/08/13 - 01/10/14\n",
    "        np.arange(1735,2105), # 02/10/14 - 06/10/15\n",
    "        np.arange(2107,2472), # 09/10/15 - 07/10/16\n",
    "        np.arange(2473,2821), # 09/10/16 - 21/09/17\n",
    "        np.arange(2824,3190), # 25/09/17 - 25/09/18\n",
    "        np.arange(3190,len(ice_type))] # 26/09/18 - 30/04/21\n",
    "a_x = [237,237,237,237,237,237,237,237,237]\n",
    "a_y = [147,147,147,147,147,147,147,147,147]\n",
    "\n",
    "### ULS_B\n",
    "b_days = [np.arange(276,578), # 04/10/10 - 02/08/11 \n",
    "        np.arange(579,967), # 03/08/11 - 25/08/12 \n",
    "        np.arange(972,1329), # 30/08/12 - 21/08/13\n",
    "        np.arange(1329,1742), # 22/08/13 - 08/10/14\n",
    "        np.arange(1743,2099), # 10/10/14 - 30/09/15\n",
    "        np.arange(2107,2469), # 09/10/15 - 04/10/16\n",
    "        np.arange(2470,2819), # 06/10/16 - 19/09/17\n",
    "        np.arange(2820,3187), # 21/09/17 - 22/09/18\n",
    "        np.arange(3188,len(ice_type))] # 24/09/18 - 30/04/21\n",
    "\n",
    "b_x = [226,224,226,226,226,226,226,225,224]\n",
    "b_y = [153,154,153,154,154,153,153,154,155]\n",
    "\n",
    "### ULS_D\n",
    "d_days = [np.arange(283,587), # 11/10/10 - 12/08/11 \n",
    "        np.arange(589,964), # 13/08/11 - 22/08/12 \n",
    "        np.arange(965,1317), # 23/08/12 - 09/08/13\n",
    "        np.arange(1317,1731), # 10/08/13 - 27/09/14\n",
    "        np.arange(1732,2111), # 29/09/14 - 12/10/15\n",
    "        np.arange(2112,2478), # 14/10/15 - 13/10/16\n",
    "        np.arange(2479,2825), # 15/10/16 - 25/09/17\n",
    "        np.arange(2827,3179), # 28/09/17 - 14/09/18\n",
    "        np.arange(3180,len(ice_type))] # 16/09/18 - 30/04/21\n",
    "\n",
    "d_x = [234,234,234,234,234,234,234,234,233]\n",
    "d_y = [135,134,134,134,136,135,135,135,135]"
   ]
  },
  {
   "cell_type": "markdown",
   "id": "09e2e6a9",
   "metadata": {},
   "source": [
    "### load sit function"
   ]
  },
  {
   "cell_type": "code",
   "execution_count": 4,
   "id": "1c523be5",
   "metadata": {},
   "outputs": [],
   "source": [
    "def rf_to_sit(snow,retracker,alpha):\n",
    "    sit = np.full((len(ice_type)),np.nan)\n",
    "    lon = np.full((len(ice_type)),np.nan)\n",
    "    lat = np.full((len(ice_type)),np.nan)\n",
    "    \n",
    "    for days,x,y in zip(buoy_days,buoy_x,buoy_y):\n",
    "\n",
    "        RF = RFs[days,x,y]\n",
    "         \n",
    "        ice_type_r = ice_type[days,x,y]\n",
    "        ice_type_r[ice_type_r==2] = rho_fyi\n",
    "        ice_type_r[ice_type_r==3] = rho_myi\n",
    "        ice_type_r[np.isnan(ice_type_r)&~np.isnan(RF)] = rho_fyi # make ambigious icetype = fyi\n",
    "        rho_i = ice_type_r # sea ice density\n",
    "\n",
    "        hs = snod[days,x,y] # snow depth \n",
    "        rho_s = sden[days,x,y] # snow density\n",
    "        \n",
    "        Fi = RF + ((((alpha/100) * (c/cs)) -1)*hs) # ice freeboard \n",
    "        SIT = ((Fi*rho_w) + (hs*rho_s)) / (rho_w - rho_i) # sea ice thickness \n",
    "        \n",
    "        sit[days] = SIT\n",
    "        lon[days] = ease_lons[x,y]\n",
    "        lat[days] = ease_lats[x,y]\n",
    "        \n",
    "    data_vars = {'Sea Ice Thickness':(['t'],sit),\n",
    "                'Longitude':(['t'],lon),\n",
    "                'Latitude':(['t'],lat)}\n",
    "    ds = xr.Dataset(data_vars = data_vars,\n",
    "                    coords={'Day':(['t'],np.arange(0,len(ice_type)))},\n",
    "                    )\n",
    "    ds.attrs = {'Day': \"day since 1 January 2010\"}\n",
    "    ds.to_netcdf(datapath+'sit/'+snow+'_'+retracker+'/'+buoy+'/a'+str(alpha)+'.nc','w')"
   ]
  },
  {
   "cell_type": "markdown",
   "id": "f0a84c67",
   "metadata": {},
   "source": [
    "### create SIT for each combination"
   ]
  },
  {
   "cell_type": "code",
   "execution_count": 5,
   "id": "58278e45",
   "metadata": {},
   "outputs": [
    {
     "name": "stderr",
     "output_type": "stream",
     "text": [
      "100%|███████████████████████████████████████| 101/101 [1:01:44<00:00, 36.68s/it]\n"
     ]
    }
   ],
   "source": [
    "snow = 'SMLG'\n",
    "retrackers = ['AWI','CPOM','LARM']\n",
    "buoys = ['ULS_A','ULS_B','ULS_D']\n",
    "buoy_dayss = [a_days,b_days,d_days]\n",
    "buoy_xs = [a_x,b_x,d_x]\n",
    "buoy_ys = [a_y,b_y,d_y]\n",
    "\n",
    "alphas = np.arange(0,101)\n",
    "\n",
    "sden = np.array(Dataset(datapath + 'snow/SMLG_ERA5_01Jan2010-31Jul2021.nc')['Snow Density'])[:len(ice_type)]\n",
    "snod = np.array(Dataset(datapath + 'snow/SMLG_ERA5_01Jan2010-31Jul2021.nc')['Snow Depth'])[:len(ice_type)]\n",
    "\n",
    "for alpha in tqdm.tqdm(alphas):\n",
    "    for buoy,buoy_days,buoy_x,buoy_y in zip(buoys,buoy_dayss,buoy_xs,buoy_ys):\n",
    "\n",
    "        for retracker in retrackers:\n",
    "            RFs = np.asarray(Dataset(datapath+'radar_freeboard/CS2_'+retracker+'.nc')['Radar Freeboard'])\n",
    "            rf_to_sit(snow,retracker,alpha)"
   ]
  },
  {
   "cell_type": "code",
   "execution_count": 6,
   "id": "19c65305",
   "metadata": {},
   "outputs": [],
   "source": [
    "buoys = ['ULS_A','ULS_B','ULS_D']\n",
    "\n",
    "for counter,buoy in enumerate(buoys):\n",
    "    fig = plt.figure(figsize=(10,10))\n",
    "    ax = fig.add_subplot(projection=ccrs.NorthPolarStereo())\n",
    "    ax.add_feature(cartopy.feature.LAND, color='darkgrey',zorder=1)\n",
    "    ax.add_feature(cartopy.feature.OCEAN, color='gainsboro', edgecolor='black')\n",
    "    ax.set_extent([-180, 180, 90, 65], ccrs.PlateCarree())\n",
    "    ax.coastlines()  \n",
    "    for alpha in alphas:\n",
    "        file = Dataset('/Users/carmennab/Dropbox/alpha_retracker/data/sit/SMLG_CPOM/'+buoy+'/a'+str(alpha)+'.nc')\n",
    "        sit = np.array(file['Sea Ice Thickness'])\n",
    "        lons = np.array(file['Longitude'])\n",
    "        lats = np.array(file['Latitude'])    \n",
    "        ax.scatter(lons,lats,c=sit,cmap='plasma',vmin=0,vmax=3,transform=ccrs.PlateCarree())\n",
    "    ax.set_title(buoy,fontsize=25, pad=10)\n",
    "    plt.show()"
   ]
  }
 ],
 "metadata": {
  "kernelspec": {
   "display_name": "Python 3 (ipykernel)",
   "language": "python",
   "name": "python3"
  },
  "language_info": {
   "codemirror_mode": {
    "name": "ipython",
    "version": 3
   },
   "file_extension": ".py",
   "mimetype": "text/x-python",
   "name": "python",
   "nbconvert_exporter": "python",
   "pygments_lexer": "ipython3",
   "version": "3.8.15"
  }
 },
 "nbformat": 4,
 "nbformat_minor": 5
}
