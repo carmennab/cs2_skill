{
 "cells": [
  {
   "cell_type": "code",
   "execution_count": 1,
   "id": "5e45703f",
   "metadata": {},
   "outputs": [],
   "source": [
    "import numpy as np\n",
    "import pandas as pd\n",
    "from netCDF4 import Dataset\n",
    "import tqdm\n",
    "import itertools"
   ]
  },
  {
   "cell_type": "code",
   "execution_count": 2,
   "id": "fdca64b4",
   "metadata": {},
   "outputs": [],
   "source": [
    "moorings = ['a','b','d']"
   ]
  },
  {
   "cell_type": "code",
   "execution_count": 3,
   "id": "f5ff5904",
   "metadata": {},
   "outputs": [],
   "source": [
    "### monthly mean radar freeboard at each mooring\n",
    "\n",
    "datapath = '/Users/carmennab/Dropbox/alpha_retracker/data/sit/pysiral/'\n",
    "\n",
    "radar_freeboards_data = {}\n",
    "\n",
    "for mooring in moorings:\n",
    "\n",
    "    radar_freeboards_data[mooring] = pd.read_csv(datapath+'mean_rf_mooring_'+mooring+'.csv')"
   ]
  },
  {
   "cell_type": "code",
   "execution_count": 4,
   "id": "bbe73cc3",
   "metadata": {},
   "outputs": [],
   "source": [
    "c = 3.\n",
    "cs = 2.4\n",
    "rho_w = 1023.9"
   ]
  },
  {
   "cell_type": "markdown",
   "id": "71a1945b",
   "metadata": {},
   "source": [
    "### make ERA5 SITS, MERRA2 SITS, JUT SITS"
   ]
  },
  {
   "cell_type": "code",
   "execution_count": 5,
   "id": "bcabd735",
   "metadata": {
    "scrolled": true
   },
   "outputs": [
    {
     "name": "stderr",
     "output_type": "stream",
     "text": [
      "100%|█████████████████████████████████████████| 101/101 [03:10<00:00,  1.89s/it]\n",
      "100%|█████████████████████████████████████████| 101/101 [03:13<00:00,  1.92s/it]\n",
      "100%|█████████████████████████████████████████| 101/101 [03:10<00:00,  1.89s/it]\n",
      "100%|█████████████████████████████████████████| 101/101 [02:36<00:00,  1.54s/it]\n",
      "100%|█████████████████████████████████████████| 101/101 [02:04<00:00,  1.23s/it]\n",
      "100%|█████████████████████████████████████████| 101/101 [02:04<00:00,  1.23s/it]\n",
      "100%|█████████████████████████████████████████| 101/101 [01:36<00:00,  1.05it/s]\n",
      "100%|█████████████████████████████████████████| 101/101 [03:11<00:00,  1.90s/it]\n",
      "100%|█████████████████████████████████████████| 101/101 [03:13<00:00,  1.91s/it]\n",
      "100%|█████████████████████████████████████████| 101/101 [03:11<00:00,  1.89s/it]\n",
      "100%|█████████████████████████████████████████| 101/101 [02:36<00:00,  1.55s/it]\n",
      "100%|█████████████████████████████████████████| 101/101 [02:05<00:00,  1.25s/it]\n",
      "100%|█████████████████████████████████████████| 101/101 [02:06<00:00,  1.25s/it]\n",
      "100%|█████████████████████████████████████████| 101/101 [01:38<00:00,  1.03it/s]\n",
      "100%|█████████████████████████████████████████| 101/101 [03:20<00:00,  1.98s/it]\n",
      "100%|█████████████████████████████████████████| 101/101 [03:18<00:00,  1.97s/it]\n",
      "100%|█████████████████████████████████████████| 101/101 [03:17<00:00,  1.96s/it]\n",
      "100%|█████████████████████████████████████████| 101/101 [02:43<00:00,  1.62s/it]\n",
      "100%|█████████████████████████████████████████| 101/101 [02:16<00:00,  1.35s/it]\n",
      "100%|█████████████████████████████████████████| 101/101 [02:08<00:00,  1.27s/it]\n",
      "100%|█████████████████████████████████████████| 101/101 [01:39<00:00,  1.01it/s]\n"
     ]
    }
   ],
   "source": [
    "alphas = np.round(np.arange(0,1.01,0.01),decimals=2)\n",
    "thresholds = np.arange(5,97.5,2.5)\n",
    "\n",
    "for name in ['era5','merra2','jut']:\n",
    "    for mooring in moorings:\n",
    "        rfs = radar_freeboards_data[mooring]\n",
    "        aux = pd.read_csv('../data/sit/pysiral/aux_'+mooring+'.csv')\n",
    "\n",
    "        if name == 'jut':\n",
    "            df_rho_i = aux['mean_ice_density_jut']\n",
    "            df_hs = aux['mean_era5_snod']\n",
    "            df_rho_s = aux['mean_era5_sden']\n",
    "            \n",
    "        else:\n",
    "            df_rho_i = aux['mean_ice_density']\n",
    "            df_hs = aux['mean_'+name+'_snod']\n",
    "            df_rho_s = aux['mean_'+name+'_sden']\n",
    "        \n",
    "        df_buoy_thickness = aux['mean_buoy_thickness_'+name]\n",
    "\n",
    "        for alpha in tqdm.tqdm(alphas):\n",
    "\n",
    "            sits = []\n",
    "\n",
    "            for month, year in itertools.product(set(rfs['month']),set(rfs['year'])):\n",
    "\n",
    "                d = {'year':year,'month':month}\n",
    "\n",
    "                buoy_thickness = df_buoy_thickness[(aux['month']==month) & (aux['year']==year)]\n",
    "\n",
    "                freeboard = rfs[(rfs['month']==month) & (rfs['year']==year)]\n",
    "\n",
    "                if (len(buoy_thickness)>0) & (len(freeboard)>0):\n",
    "\n",
    "                    for threshold in thresholds:\n",
    "\n",
    "                        rf = rfs['mean_radar_freeboard'][(rfs['month']==month) & (rfs['year']==year) & (rfs['threshold']==threshold)].iloc[0]\n",
    "\n",
    "                        hs = df_hs[(aux['month']==month) & (aux['year']==year)].iloc[0]\n",
    "\n",
    "                        rho_s = df_rho_s[(aux['month']==month) & (aux['year']==year)].iloc[0]\n",
    "                        rho_i = df_rho_i[(aux['month']==month) & (aux['year']==year)].iloc[0]\n",
    "                        ice_freeboard = rf + (((alpha * (c/cs)) -1)*hs)  # isobel thesis pg 114\n",
    "                        sit = ((ice_freeboard*rho_w) + (hs*rho_s)) / (rho_w - rho_i)\n",
    "                        d['mean_sit_'+str(threshold)] = sit\n",
    "\n",
    "                    d['mean_buoy_thickness'] = buoy_thickness.iloc[0]\n",
    "\n",
    "                    sits.append(d)\n",
    "\n",
    "            sit_df = pd.DataFrame(sits)\n",
    "            filepath = f'../data/sit/pysiral/alpha_sits_{name}/a{str(alpha)}_{mooring}.csv'\n",
    "            sit_df.to_csv(filepath, na_rep=np.nan, index=False)"
   ]
  },
  {
   "cell_type": "markdown",
   "id": "30367bd4",
   "metadata": {},
   "source": [
    "### make ERA5 * 0.5 and * 1.5 SITS"
   ]
  },
  {
   "cell_type": "code",
   "execution_count": 5,
   "id": "49290644",
   "metadata": {},
   "outputs": [
    {
     "name": "stderr",
     "output_type": "stream",
     "text": [
      "100%|█████████████████████████████████████████| 101/101 [03:16<00:00,  1.95s/it]\n",
      "100%|█████████████████████████████████████████| 101/101 [03:20<00:00,  1.98s/it]\n",
      "100%|█████████████████████████████████████████| 101/101 [03:18<00:00,  1.97s/it]\n",
      "100%|█████████████████████████████████████████| 101/101 [03:18<00:00,  1.97s/it]\n",
      "100%|█████████████████████████████████████████| 101/101 [03:21<00:00,  2.00s/it]\n",
      "100%|█████████████████████████████████████████| 101/101 [03:19<00:00,  1.97s/it]\n"
     ]
    }
   ],
   "source": [
    "alphas = np.round(np.arange(0,1.01,0.01),decimals=2)\n",
    "thresholds = np.arange(5,97.5,2.5)\n",
    "\n",
    "for name in ['90','110']:\n",
    "    for mooring in moorings:\n",
    "        rfs = radar_freeboards_data[mooring]\n",
    "        aux = pd.read_csv('../data/sit/pysiral/aux_'+mooring+'.csv')\n",
    "\n",
    "\n",
    "        df_rho_i = aux['mean_ice_density']\n",
    "        df_hs = aux['mean_era5_snod_'+name]\n",
    "        df_rho_s = aux['mean_era5_sden']\n",
    "        \n",
    "        df_buoy_thickness = aux['mean_buoy_thickness_'+name]\n",
    "\n",
    "        for alpha in tqdm.tqdm(alphas):\n",
    "\n",
    "            sits = []\n",
    "\n",
    "            for month, year in itertools.product(set(rfs['month']),set(rfs['year'])):\n",
    "\n",
    "                d = {'year':year,'month':month}\n",
    "\n",
    "                buoy_thickness = df_buoy_thickness[(aux['month']==month) & (aux['year']==year)]\n",
    "\n",
    "                freeboard = rfs[(rfs['month']==month) & (rfs['year']==year)]\n",
    "\n",
    "                if (len(buoy_thickness)>0) & (len(freeboard)>0):\n",
    "\n",
    "                    for threshold in thresholds:\n",
    "\n",
    "                        rf = rfs['mean_radar_freeboard'][(rfs['month']==month) & (rfs['year']==year) & (rfs['threshold']==threshold)].iloc[0]\n",
    "\n",
    "                        hs = df_hs[(aux['month']==month) & (aux['year']==year)].iloc[0]\n",
    "\n",
    "                        rho_s = df_rho_s[(aux['month']==month) & (aux['year']==year)].iloc[0]\n",
    "                        rho_i = df_rho_i[(aux['month']==month) & (aux['year']==year)].iloc[0]\n",
    "                        ice_freeboard = rf + (((alpha * (c/cs)) -1)*hs)  # isobel thesis pg 114\n",
    "                        sit = ((ice_freeboard*rho_w) + (hs*rho_s)) / (rho_w - rho_i)\n",
    "                        d['mean_sit_'+str(threshold)] = sit\n",
    "\n",
    "                    d['mean_buoy_thickness'] = buoy_thickness.iloc[0]\n",
    "\n",
    "                    sits.append(d)\n",
    "\n",
    "            sit_df = pd.DataFrame(sits)\n",
    "            filepath = f'../data/sit/pysiral/alpha_sits_{name}/a{str(alpha)}_{mooring}.csv'\n",
    "            sit_df.to_csv(filepath, na_rep=np.nan, index=False)"
   ]
  },
  {
   "cell_type": "code",
   "execution_count": null,
   "id": "d91ca244",
   "metadata": {},
   "outputs": [],
   "source": []
  }
 ],
 "metadata": {
  "kernelspec": {
   "display_name": "Python 3 (ipykernel)",
   "language": "python",
   "name": "python3"
  },
  "language_info": {
   "codemirror_mode": {
    "name": "ipython",
    "version": 3
   },
   "file_extension": ".py",
   "mimetype": "text/x-python",
   "name": "python",
   "nbconvert_exporter": "python",
   "pygments_lexer": "ipython3",
   "version": "3.8.15"
  }
 },
 "nbformat": 4,
 "nbformat_minor": 5
}
