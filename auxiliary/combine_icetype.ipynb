{
 "cells": [
  {
   "cell_type": "code",
   "execution_count": 3,
   "id": "4db72153",
   "metadata": {},
   "outputs": [],
   "source": [
    "import numpy as np\n",
    "from netCDF4 import Dataset\n",
    "import datetime\n",
    "from scipy.interpolate import griddata\n",
    "import tqdm\n",
    "from regrid import regrid\n",
    "import matplotlib.pyplot as plt\n",
    "import xarray as xr\n",
    "import warnings\n",
    "warnings.filterwarnings(\"ignore\")"
   ]
  },
  {
   "cell_type": "code",
   "execution_count": null,
   "id": "a7ca20ea",
   "metadata": {},
   "outputs": [],
   "source": [
    "datapath = '/Users/carmennab/Dropbox/OI_PolarSnow/data/CDS_icetype/'\n",
    "\n",
    "days = np.arange(0,4138) # until 30/04/2021\n",
    "dates = [datetime.date(2010,1,1)+datetime.timedelta(days=int(days)) for days in days]\n",
    "ease_lats = np.load('/Users/carmennab/Dropbox/alpha_retracker/data/auxiliary/lat_25km_cent.npy')\n",
    "ease_lons = np.load('/Users/carmennab/Dropbox/alpha_retracker/data/auxiliary/lon_25km_cent.npy')\n",
    "\n",
    "icetype_grid_25 = np.full((len(days),361,361),np.nan)\n",
    "\n",
    "for day in tqdm.tqdm(days):\n",
    "    date = dates[day].strftime('%Y%m%d')\n",
    "    try:\n",
    "        icetype = Dataset(datapath + 'ice_type_nh_ease2-250_cdr-v2p0_' + date + '1200.nc')\n",
    "        icetype_lon = np.array(icetype['lon'])\n",
    "        icetype_lat = np.array(icetype['lat'])\n",
    "        itype = np.array(icetype['ice_type']).astype('float32')[0,:,:]\n",
    "        itype[itype>3] = np.nan\n",
    "        itype[itype<2] = np.nan\n",
    "        icetype_grid_25[day,:,:] = regrid(itype,icetype_lon,icetype_lat,ease_lons,ease_lats)\n",
    "    except:\n",
    "        pass"
   ]
  },
  {
   "cell_type": "code",
   "execution_count": 8,
   "id": "6ccd05bd",
   "metadata": {},
   "outputs": [],
   "source": [
    "# create icetype NETCDF\n",
    "data_vars = {'Ice Type':(['t','x','y'],icetype_grid_25)}\n",
    "ds = xr.Dataset(data_vars = data_vars,\n",
    "                coords={'Longitude':(['x','y'],ease_lons),\n",
    "                        'Latitude':(['x','y'],ease_lats),\n",
    "                         'Day':(['t'],days)}     )\n",
    "ds.to_netcdf(f'/Users/carmennab/Dropbox/alpha_retracker/data/auxiliary/icetype_01012010-30042021.nc','w')"
   ]
  }
 ],
 "metadata": {
  "kernelspec": {
   "display_name": "Python 3 (ipykernel)",
   "language": "python",
   "name": "python3"
  },
  "language_info": {
   "codemirror_mode": {
    "name": "ipython",
    "version": 3
   },
   "file_extension": ".py",
   "mimetype": "text/x-python",
   "name": "python",
   "nbconvert_exporter": "python",
   "pygments_lexer": "ipython3",
   "version": "3.8.15"
  }
 },
 "nbformat": 4,
 "nbformat_minor": 5
}
