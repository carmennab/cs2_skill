{
 "cells": [
  {
   "cell_type": "code",
   "execution_count": 2,
   "id": "5543fb09",
   "metadata": {},
   "outputs": [],
   "source": [
    "import numpy as np\n",
    "from netCDF4 import Dataset\n",
    "import xarray as xr"
   ]
  },
  {
   "cell_type": "markdown",
   "id": "ee2c09d1",
   "metadata": {},
   "source": [
    "### ERA5"
   ]
  },
  {
   "cell_type": "code",
   "execution_count": 2,
   "id": "765f44ea",
   "metadata": {},
   "outputs": [],
   "source": [
    "datapath = '/Users/carmennab/Dropbox/OI_PolarSnow/data/SnowModelLG/'\n",
    "snod_one = np.asarray(Dataset(datapath + 'SM_snod_ERA5_01Aug1980-31Jul2018_v01.nc')['snod'])[10745:] \n",
    "snod_two = np.asarray(Dataset(datapath + 'SM_snod_ERA5_ease_01Aug2018-31Jul2021.nc')['snod'])\n",
    "snod_full = np.concatenate((snod_one,snod_two),axis = 0)\n",
    "snod_full[snod_full==-9999] = np.nan\n",
    "sden_one = np.asarray(Dataset(datapath + 'SM_sden_ERA5_01Aug1980-31Jul2018_v01.nc')['sden'])[10745:] \n",
    "sden_two = np.asarray(Dataset(datapath + 'SM_sden_ERA5_ease_01Aug2018-31Jul2021.nc')['sden'])\n",
    "sden_full = np.concatenate((sden_one,sden_two),axis = 0)\n",
    "sden_full[sden_full==-9999] = np.nan\n",
    "mymask = Dataset('/Users/carmennab/Dropbox/OI_PolarSnow/data/SnowModelLG/mask.nc')\n",
    "SM_lons = np.array(mymask['lon'])\n",
    "SM_lats = np.array(mymask['lat'])\n",
    "days = np.arange(0,len(snod_full))"
   ]
  },
  {
   "cell_type": "code",
   "execution_count": 4,
   "id": "a941377d",
   "metadata": {},
   "outputs": [],
   "source": [
    "data_vars = {'Snow Depth':(['t','x','y'],snod_full),\n",
    "            'Snow Density':(['t','x','y'],sden_full)}\n",
    "ds = xr.Dataset(data_vars = data_vars,\n",
    "                coords={'Longitude':(['x','y'],SM_lons),\n",
    "                        'Latitude':(['x','y'],SM_lats),\n",
    "                         'Day':(['t'],days)},\n",
    "                )\n",
    "ds.attrs = {'Day': \"day since 1 January 2010\"}\n",
    "ds.to_netcdf('/Users/carmennab/Dropbox/sit_sensitivity/data/snow/SMLG_ERA5_01Jan2010-31Jul2021.nc','w')"
   ]
  }
 ],
 "metadata": {
  "kernelspec": {
   "display_name": "Python 3 (ipykernel)",
   "language": "python",
   "name": "python3"
  },
  "language_info": {
   "codemirror_mode": {
    "name": "ipython",
    "version": 3
   },
   "file_extension": ".py",
   "mimetype": "text/x-python",
   "name": "python",
   "nbconvert_exporter": "python",
   "pygments_lexer": "ipython3",
   "version": "3.8.15"
  }
 },
 "nbformat": 4,
 "nbformat_minor": 5
}
