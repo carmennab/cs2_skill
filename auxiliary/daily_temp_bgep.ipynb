{
 "cells": [
  {
   "cell_type": "code",
   "execution_count": null,
   "id": "03fbdfa1",
   "metadata": {},
   "outputs": [],
   "source": [
    "from netCDF4 import Dataset\n",
    "import numpy as np\n",
    "import datetime\n",
    "import matplotlib.pyplot as plt\n",
    "import xarray as xr\n",
    "import cartopy.crs as ccrs\n",
    "import cartopy\n",
    "from regrid import regrid\n",
    "import tqdm\n",
    "import warnings\n",
    "warnings.filterwarnings(\"ignore\")"
   ]
  },
  {
   "cell_type": "markdown",
   "id": "b70b9a12",
   "metadata": {},
   "source": [
    "### create daily temperatures on EASE2 grid"
   ]
  },
  {
   "cell_type": "code",
   "execution_count": null,
   "id": "c8e69551",
   "metadata": {},
   "outputs": [],
   "source": [
    "coords = Dataset('/Users/carmennab/Dropbox/alpha_retracker/data/snow/SMLG_ERA5_01Jan2010-31Jul2021.nc')\n",
    "ease_lats = np.asarray(coords['Latitude'])\n",
    "ease_lons = np.asarray(coords['Longitude'])\n",
    "\n",
    "datapath = '/Users/carmennab/Dropbox/OI_PolarSnow/data/ERA5/temp/'\n",
    "years = np.arange(2010,2022)\n",
    "missing = np.full((153,ease_lats.shape[0],ease_lats.shape[1]),np.nan)\n",
    "all_temps = {}\n",
    "\n",
    "for year in tqdm.tqdm(years):\n",
    "    \n",
    "    # load ERA5 temperature data\n",
    "    file = datapath + str(year) +'.nc'\n",
    "    data = Dataset(file,'r')\n",
    "    lon = data['longitude']\n",
    "    lat = data['latitude']\n",
    "    era5_lon,era5_lat = np.meshgrid(np.array(lon),np.array(lat))\n",
    "    temp = data['t2m']    \n",
    "           \n",
    "    # turn hourly data into daily data and regrid onto EASE grid        \n",
    "    temp_daily = []\n",
    "\n",
    "    for i in np.arange(0,temp.shape[0],24):\n",
    "\n",
    "        temps_on_day = temp[i:i+24]\n",
    "\n",
    "        day_ave = np.nanmean(temps_on_day,axis=0)\n",
    "\n",
    "        regrid_ave = regrid(day_ave,\n",
    "                            era5_lon,\n",
    "                            era5_lat,\n",
    "                            ease_lons,\n",
    "                            ease_lats,\n",
    "                            method='linear')\n",
    "\n",
    "        temp_daily.append(regrid_ave)\n",
    "    \n",
    "    # create full year list, with NaNs for days in May - September\n",
    "    year_temps = np.concatenate((temp_daily[:-92],missing,temp_daily[-92:]),axis=0)\n",
    "\n",
    "    all_temps[year] = year_temps\n",
    "    \n",
    "# create one array containing data for all years and save\n",
    "all_temps_arr = np.concatenate((all_temps[2010], all_temps[2011], all_temps[2012], all_temps[2013], \n",
    "                               all_temps[2014], all_temps[2015], all_temps[2016], all_temps[2017], \n",
    "                               all_temps[2018], all_temps[2019], all_temps[2020], all_temps[2021]),axis=0)"
   ]
  },
  {
   "cell_type": "markdown",
   "id": "6af52650",
   "metadata": {},
   "source": [
    "### load buoy grid cell locations"
   ]
  },
  {
   "cell_type": "code",
   "execution_count": null,
   "id": "9cbde12d",
   "metadata": {},
   "outputs": [],
   "source": [
    "### ULS_A\n",
    "a_days = [np.arange(272,575), # 30/09/10 - 30/07/11 \n",
    "        np.arange(575,954), # 31/07/11 - 12/08/12 \n",
    "        np.arange(956,1322), # 14/08/12 - 14/08/13\n",
    "        np.arange(1322,1735), # 15/08/13 - 01/10/14\n",
    "        np.arange(1735,2105), # 02/10/14 - 06/10/15\n",
    "        np.arange(2107,2472), # 09/10/15 - 07/10/16\n",
    "        np.arange(2473,2821), # 09/10/16 - 21/09/17\n",
    "        np.arange(2824,3190), # 25/09/17 - 25/09/18\n",
    "        np.arange(3190,4138)] # 26/09/18 - 30/04/21\n",
    "a_x = [237,237,237,237,237,237,237,237,237]\n",
    "a_y = [147,147,147,147,147,147,147,147,147]\n",
    "\n",
    "### ULS_B\n",
    "b_days = [np.arange(276,578), # 04/10/10 - 02/08/11 \n",
    "        np.arange(579,967), # 03/08/11 - 25/08/12 \n",
    "        np.arange(972,1329), # 30/08/12 - 21/08/13\n",
    "        np.arange(1329,1742), # 22/08/13 - 08/10/14\n",
    "        np.arange(1743,2099), # 10/10/14 - 30/09/15\n",
    "        np.arange(2107,2469), # 09/10/15 - 04/10/16\n",
    "        np.arange(2470,2819), # 06/10/16 - 19/09/17\n",
    "        np.arange(2820,3187), # 21/09/17 - 22/09/18\n",
    "        np.arange(3188,4138)] # 24/09/18 - 30/04/21\n",
    "\n",
    "b_x = [226,224,226,226,226,226,226,225,224]\n",
    "b_y = [153,154,153,154,154,153,153,154,155]\n",
    "\n",
    "### ULS_D\n",
    "d_days = [np.arange(283,587), # 11/10/10 - 12/08/11 \n",
    "        np.arange(589,964), # 13/08/11 - 22/08/12 \n",
    "        np.arange(965,1317), # 23/08/12 - 09/08/13\n",
    "        np.arange(1317,1731), # 10/08/13 - 27/09/14\n",
    "        np.arange(1732,2111), # 29/09/14 - 12/10/15\n",
    "        np.arange(2112,2478), # 14/10/15 - 13/10/16\n",
    "        np.arange(2479,2825), # 15/10/16 - 25/09/17\n",
    "        np.arange(2827,3179), # 28/09/17 - 14/09/18\n",
    "        np.arange(3180,4138)] # 16/09/18 - 30/04/21\n",
    "\n",
    "d_x = [234,234,234,234,234,234,234,234,233]\n",
    "d_y = [135,134,134,134,136,135,135,135,135]"
   ]
  },
  {
   "cell_type": "markdown",
   "id": "09e2e6a9",
   "metadata": {},
   "source": [
    "### extract daily temperature at buoy locations"
   ]
  },
  {
   "cell_type": "code",
   "execution_count": null,
   "id": "1c523be5",
   "metadata": {},
   "outputs": [],
   "source": [
    "datapath = '/Users/carmennab/Dropbox/alpha_retracker/data/'\n",
    "buoys = ['ULS_A','ULS_B','ULS_D']\n",
    "buoy_dayss = [a_days,b_days,d_days]\n",
    "buoy_xs = [a_x,b_x,d_x]\n",
    "buoy_ys = [a_y,b_y,d_y]\n",
    "\n",
    "for buoy,buoy_days,buoy_x,buoy_y in zip(buoys,buoy_dayss,buoy_xs,buoy_ys):\n",
    "    temps = np.full(4138,np.nan)\n",
    "    lons = np.full(4138,np.nan)\n",
    "    lats = np.full(4138,np.nan)\n",
    "\n",
    "    for days,x,y in zip(buoy_days,buoy_x,buoy_y):\n",
    "\n",
    "        temp = all_temps_arr[days,x,y]\n",
    "\n",
    "        temps[days] = temp\n",
    "        lons[days] = ease_lons[x,y]\n",
    "        lats[days] = ease_lats[x,y]\n",
    "\n",
    "    data_vars = {'Air Temperature':(['t'],temps),\n",
    "               'Longitude':(['t'],lons),\n",
    "               'Latitude':(['t'],lats)}\n",
    "    ds = xr.Dataset(data_vars = data_vars,\n",
    "                   coords={'Day':(['t'],np.arange(0,4138))},\n",
    "                   )\n",
    "    ds.attrs = {'Day': \"day since 1 January 2010\"}\n",
    "    filename = datapath+'ERA5_temp_'+buoy+'.nc'\n",
    "    ! rm filename\n",
    "    ds.to_netcdf(filename,'w')"
   ]
  },
  {
   "cell_type": "markdown",
   "id": "f0a84c67",
   "metadata": {},
   "source": [
    "### plot daily air temps at each buoy"
   ]
  },
  {
   "cell_type": "code",
   "execution_count": null,
   "id": "19c65305",
   "metadata": {},
   "outputs": [],
   "source": [
    "buoys = ['ULS_A','ULS_B','ULS_D']\n",
    "\n",
    "for counter,buoy in enumerate(buoys):\n",
    "    fig = plt.figure(figsize=(7,7))\n",
    "    ax = fig.add_subplot(projection=ccrs.NorthPolarStereo())\n",
    "    ax.add_feature(cartopy.feature.LAND, color='darkgrey',zorder=1)\n",
    "    ax.add_feature(cartopy.feature.OCEAN, color='gainsboro', edgecolor='black')\n",
    "    ax.set_extent([-180, 180, 90, 65], ccrs.PlateCarree())\n",
    "    ax.coastlines()  \n",
    "    file = Dataset(datapath+'ERA5_temp_'+buoy+'.nc')\n",
    "    temp = np.array(file['Air Temperature'])\n",
    "    lons = np.array(file['Longitude'])\n",
    "    lats = np.array(file['Latitude'])    \n",
    "    ax.scatter(lons,lats,c=temp,cmap='plasma',vmin=200,vmax=300,transform=ccrs.PlateCarree())\n",
    "    ax.set_title(buoy,fontsize=25, pad=10)\n",
    "    plt.show()"
   ]
  }
 ],
 "metadata": {
  "kernelspec": {
   "display_name": "Python 3 (ipykernel)",
   "language": "python",
   "name": "python3"
  },
  "language_info": {
   "codemirror_mode": {
    "name": "ipython",
    "version": 3
   },
   "file_extension": ".py",
   "mimetype": "text/x-python",
   "name": "python",
   "nbconvert_exporter": "python",
   "pygments_lexer": "ipython3",
   "version": "3.8.15"
  }
 },
 "nbformat": 4,
 "nbformat_minor": 5
}
