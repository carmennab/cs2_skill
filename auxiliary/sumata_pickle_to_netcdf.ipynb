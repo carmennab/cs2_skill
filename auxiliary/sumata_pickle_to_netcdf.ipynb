{
 "cells": [
  {
   "cell_type": "code",
   "execution_count": 1,
   "id": "ad5c3a77",
   "metadata": {},
   "outputs": [
    {
     "name": "stderr",
     "output_type": "stream",
     "text": [
      "/var/folders/_1/fh2vf5m57871c546k_sf7xr80000gn/T/ipykernel_5509/3783572439.py:12: DeprecationWarning: Please use `KDTree` from the `scipy.spatial` namespace, the `scipy.spatial.kdtree` namespace is deprecated.\n",
      "  from scipy.spatial.kdtree import KDTree\n"
     ]
    }
   ],
   "source": [
    "import glob\n",
    "import os\n",
    "import numpy as np\n",
    "import datetime\n",
    "from netCDF4 import Dataset\n",
    "import scipy.io\n",
    "import pickle\n",
    "import h5py\n",
    "from pyproj import Proj, Transformer\n",
    "import cartopy.crs as ccrs\n",
    "import cartopy\n",
    "from scipy.spatial.kdtree import KDTree\n",
    "import xarray as xr\n",
    "import matplotlib.pyplot as plt\n",
    "import uls_util\n",
    "import warnings\n",
    "warnings.filterwarnings(\"ignore\")"
   ]
  },
  {
   "cell_type": "code",
   "execution_count": 3,
   "id": "0d6cf20f",
   "metadata": {
    "scrolled": true
   },
   "outputs": [],
   "source": [
    "datapath = '/Users/carmennab/Dropbox/alpha_retracker/data/validation/Sumata_2023/raw/'\n",
    "\n",
    "buoys = ['F11','F12','F13','F14']\n",
    "years = np.arange(2010,2020)\n",
    "months = ['01','02','03','04','10','11','12']\n",
    "\n",
    "for year in years:\n",
    "    for month in months:\n",
    "        for buoy in buoys:\n",
    "\n",
    "            files = glob.glob(f'{datapath}pickles/{buoy}/draft_pdf_{str(year)}.{month}.*.dat.pkl')\n",
    "            if len(files) == 1:\n",
    "                for file in files:\n",
    "                    f = open(file,'rb')\n",
    "                    pdf = pickle.load(f)\n",
    "                    \n",
    "                    data_vars = {'binning_range':(pdf.binning_range),\n",
    "                                 'binning_width':(pdf.binning_width),\n",
    "                                 'dataname':(pdf.dataname),\n",
    "                                 'lat':(pdf.lat),\n",
    "                                 'lon':(pdf.lon),\n",
    "                                 'num_expected_samples':(pdf.num_expected_samples),\n",
    "                                 'num_samples':(pdf.num_samples),\n",
    "                                 'num_samples_gt_max':(pdf.num_samples_gt_max),\n",
    "                                 'num_samples_lt_min':(pdf.num_samples_lt_min),\n",
    "                                 'num_valid_samples':(pdf.num_valid_samples),\n",
    "                                 'sampling_period':(pdf.sampling_period),\n",
    "                                 'smpl_intval':(pdf.smpl_intval),\n",
    "                                 'temporal_data_coverage':(pdf.temporal_data_coverage),\n",
    "                                 'x_bin':(pdf.x_bin),\n",
    "                                 'x_bin_max':(pdf.x_bin_max),\n",
    "                                 'x_bin_min':(pdf.x_bin_min),\n",
    "                                 'y_count':(pdf.y_count),\n",
    "                                 'y_pdf':(pdf.y_pdf)}\n",
    "                    \n",
    "                    ds = xr.Dataset(data_vars = data_vars)\n",
    "                    filename = f'{datapath}netcdfs/{str(year)}{month}_{buoy}.nc'\n",
    "                    ! rm {filename}\n",
    "                    ds.to_netcdf(filename,'w')"
   ]
  }
 ],
 "metadata": {
  "kernelspec": {
   "display_name": "Python 3 (ipykernel)",
   "language": "python",
   "name": "python3"
  },
  "language_info": {
   "codemirror_mode": {
    "name": "ipython",
    "version": 3
   },
   "file_extension": ".py",
   "mimetype": "text/x-python",
   "name": "python",
   "nbconvert_exporter": "python",
   "pygments_lexer": "ipython3",
   "version": "3.8.15"
  }
 },
 "nbformat": 4,
 "nbformat_minor": 5
}
