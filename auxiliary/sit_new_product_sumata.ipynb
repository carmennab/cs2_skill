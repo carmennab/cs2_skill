{
 "cells": [
  {
   "cell_type": "code",
   "execution_count": 1,
   "id": "5e45703f",
   "metadata": {},
   "outputs": [],
   "source": [
    "import numpy as np\n",
    "import pandas as pd\n",
    "from netCDF4 import Dataset\n",
    "import tqdm\n",
    "import itertools\n",
    "import warnings\n",
    "warnings.filterwarnings(\"ignore\")"
   ]
  },
  {
   "cell_type": "code",
   "execution_count": 2,
   "id": "fdca64b4",
   "metadata": {},
   "outputs": [],
   "source": [
    "moorings = ['f11','f12','f13','f14']"
   ]
  },
  {
   "cell_type": "code",
   "execution_count": 3,
   "id": "f5ff5904",
   "metadata": {},
   "outputs": [],
   "source": [
    "### monthly mean data at each mooring\n",
    "\n",
    "datapath = '/Users/carmennab/Dropbox/alpha_retracker/data/sit/pysiral/'\n",
    "\n",
    "radar_freeboards_data = {} ; aux_data = {}\n",
    "\n",
    "for mooring in moorings:\n",
    "\n",
    "    radar_freeboards_data[mooring] = pd.read_csv(datapath+'mean_rf_mooring_'+mooring+'.csv')\n",
    "    aux_data[mooring] =  pd.read_csv('../data/sit/pysiral/aux_'+mooring+'.csv')"
   ]
  },
  {
   "cell_type": "code",
   "execution_count": 4,
   "id": "bbe73cc3",
   "metadata": {},
   "outputs": [],
   "source": [
    "c = 3.\n",
    "cs = 2.4\n",
    "rho_w = 1023.9"
   ]
  },
  {
   "cell_type": "markdown",
   "id": "71a1945b",
   "metadata": {},
   "source": [
    "### make ERA5 SITS, MERRA2 SITS, JUT SITS"
   ]
  },
  {
   "cell_type": "code",
   "execution_count": 33,
   "id": "bcabd735",
   "metadata": {
    "scrolled": true
   },
   "outputs": [
    {
     "name": "stderr",
     "output_type": "stream",
     "text": [
      "100%|█████████████████████████████████████████| 101/101 [12:01<00:00,  7.15s/it]\n",
      "100%|█████████████████████████████████████████| 101/101 [11:46<00:00,  7.00s/it]\n"
     ]
    }
   ],
   "source": [
    "alphas = np.round(np.arange(0,1.01,0.01),decimals=2)\n",
    "thresholds = np.arange(5,97.5,2.5)\n",
    "unique_months = set(radar_freeboards_data['f11']['month'])\n",
    "unique_years = set(radar_freeboards_data['f11']['year'])\n",
    "\n",
    "for name in ['era5','merra2','jut']:\n",
    "    \n",
    "    for alpha in tqdm.tqdm(alphas):\n",
    "\n",
    "        sits = []\n",
    "\n",
    "        for month, year in itertools.product(unique_months,unique_years):\n",
    "\n",
    "            d = {'year':year,'month':month}\n",
    "            \n",
    "            my_buoy_sits = [] \n",
    "            \n",
    "            for mooring in moorings:\n",
    "                aux_mooring = aux_data[mooring]\n",
    "                df_buoy_thickness = aux_mooring['mean_buoy_thickness_'+name]\n",
    "                buoy_thickness = df_buoy_thickness[(aux_mooring['month']==month) & (aux_mooring['year']==year)]\n",
    "                \n",
    "                if (len(buoy_thickness)>0):\n",
    "                    my_buoy_sits.append(buoy_thickness.iloc[0])\n",
    "                    \n",
    "            mean_buoy_sit = np.nanmean(my_buoy_sits)\n",
    "            \n",
    "            if ~np.isnan(mean_buoy_sit):\n",
    "                    \n",
    "                d['mean_buoy_thickness'] = mean_buoy_sit\n",
    "\n",
    "                for threshold in thresholds:\n",
    "                    my_thresh_sits = [] \n",
    "\n",
    "                    for mooring in moorings:\n",
    "                        aux_mooring = aux_data[mooring]\n",
    "\n",
    "                        if name == 'jut':\n",
    "                            df_rho_i = aux_mooring['mean_ice_density_jut']\n",
    "                            df_hs = aux_mooring['mean_era5_snod']\n",
    "                            df_rho_s = aux_mooring['mean_era5_sden']\n",
    "\n",
    "                        else:\n",
    "                            df_rho_i = aux_mooring['mean_ice_density']\n",
    "                            df_hs = aux_mooring['mean_'+name+'_snod']\n",
    "                            df_rho_s = aux_mooring['mean_'+name+'_sden']\n",
    "\n",
    "                        rfs = radar_freeboards_data[mooring]\n",
    "\n",
    "                        freeboard = rfs[(rfs['month']==month) & (rfs['year']==year)]\n",
    "\n",
    "                        if len(freeboard)>0:\n",
    "\n",
    "                            rf = rfs['mean_radar_freeboard'][(rfs['month']==month) & (rfs['year']==year) & (rfs['threshold']==threshold)].iloc[0]\n",
    "\n",
    "                            hs = df_hs[(aux_mooring['month']==month) & (aux_mooring['year']==year)].iloc[0]\n",
    "\n",
    "                            rho_s = df_rho_s[(aux_mooring['month']==month) & (aux_mooring['year']==year)].iloc[0]\n",
    "                            rho_i = df_rho_i[(aux_mooring['month']==month) & (aux_mooring['year']==year)].iloc[0]\n",
    "                            ice_freeboard = rf + (((alpha * (c/cs)) -1)*hs)  # isobel thesis pg 114\n",
    "                            sit = ((ice_freeboard*rho_w) + (hs*rho_s)) / (rho_w - rho_i)\n",
    "\n",
    "                            my_thresh_sits.append(sit)\n",
    "\n",
    "                    d['mean_sit_'+str(threshold)] = np.nanmean(my_thresh_sits)\n",
    "\n",
    "                sits.append(d)\n",
    "\n",
    "            sit_df = pd.DataFrame(sits)\n",
    "            filepath = f'../data/sit/pysiral/alpha_sits_{name}/a{str(alpha)}_sumata.csv'\n",
    "            sit_df.to_csv(filepath, na_rep=np.nan, index=False)"
   ]
  },
  {
   "cell_type": "markdown",
   "id": "f9020adc",
   "metadata": {},
   "source": [
    "### make ERA5 * 0.5 and * 1.5 SITS"
   ]
  },
  {
   "cell_type": "code",
   "execution_count": 5,
   "id": "1d2a305b",
   "metadata": {},
   "outputs": [
    {
     "name": "stderr",
     "output_type": "stream",
     "text": [
      "100%|█████████████████████████████████████████| 101/101 [12:25<00:00,  7.38s/it]\n",
      "100%|█████████████████████████████████████████| 101/101 [12:17<00:00,  7.30s/it]\n"
     ]
    }
   ],
   "source": [
    "alphas = np.round(np.arange(0,1.01,0.01),decimals=2)\n",
    "thresholds = np.arange(5,97.5,2.5)\n",
    "unique_months = set(radar_freeboards_data['f11']['month'])\n",
    "unique_years = set(radar_freeboards_data['f11']['year'])\n",
    "\n",
    "for name in ['90','110']:\n",
    "    \n",
    "    for alpha in tqdm.tqdm(alphas):\n",
    "\n",
    "        sits = []\n",
    "\n",
    "        for month, year in itertools.product(unique_months,unique_years):\n",
    "\n",
    "            d = {'year':year,'month':month}\n",
    "            \n",
    "            my_buoy_sits = [] \n",
    "            \n",
    "            for mooring in moorings:\n",
    "                aux_mooring = aux_data[mooring]\n",
    "                df_buoy_thickness = aux_mooring['mean_buoy_thickness_'+name]\n",
    "                buoy_thickness = df_buoy_thickness[(aux_mooring['month']==month) & (aux_mooring['year']==year)]\n",
    "                \n",
    "                if (len(buoy_thickness)>0):\n",
    "                    my_buoy_sits.append(buoy_thickness.iloc[0])\n",
    "                    \n",
    "            mean_buoy_sit = np.nanmean(my_buoy_sits)\n",
    "            \n",
    "            if ~np.isnan(mean_buoy_sit):\n",
    "                    \n",
    "                d['mean_buoy_thickness'] = mean_buoy_sit\n",
    "\n",
    "                for threshold in thresholds:\n",
    "                    my_thresh_sits = [] \n",
    "\n",
    "                    for mooring in moorings:\n",
    "                        aux_mooring = aux_data[mooring]\n",
    "\n",
    "                        df_rho_i = aux_mooring['mean_ice_density']\n",
    "                        df_hs = aux_mooring['mean_era5_snod_'+name]\n",
    "                        df_rho_s = aux_mooring['mean_era5_sden']\n",
    "\n",
    "                        rfs = radar_freeboards_data[mooring]\n",
    "\n",
    "                        freeboard = rfs[(rfs['month']==month) & (rfs['year']==year)]\n",
    "\n",
    "                        if len(freeboard)>0:\n",
    "\n",
    "                            rf = rfs['mean_radar_freeboard'][(rfs['month']==month) & (rfs['year']==year) & (rfs['threshold']==threshold)].iloc[0]\n",
    "\n",
    "                            hs = df_hs[(aux_mooring['month']==month) & (aux_mooring['year']==year)].iloc[0]\n",
    "\n",
    "                            rho_s = df_rho_s[(aux_mooring['month']==month) & (aux_mooring['year']==year)].iloc[0]\n",
    "                            rho_i = df_rho_i[(aux_mooring['month']==month) & (aux_mooring['year']==year)].iloc[0]\n",
    "                            ice_freeboard = rf + (((alpha * (c/cs)) -1)*hs)  # isobel thesis pg 114\n",
    "                            sit = ((ice_freeboard*rho_w) + (hs*rho_s)) / (rho_w - rho_i)\n",
    "\n",
    "                            my_thresh_sits.append(sit)\n",
    "\n",
    "                    d['mean_sit_'+str(threshold)] = np.nanmean(my_thresh_sits)\n",
    "\n",
    "                sits.append(d)\n",
    "\n",
    "            sit_df = pd.DataFrame(sits)\n",
    "            filepath = f'../data/sit/pysiral/alpha_sits_{name}/a{str(alpha)}_sumata.csv'\n",
    "            sit_df.to_csv(filepath, na_rep=np.nan, index=False)"
   ]
  },
  {
   "cell_type": "code",
   "execution_count": null,
   "id": "e126e9a6",
   "metadata": {},
   "outputs": [],
   "source": []
  }
 ],
 "metadata": {
  "kernelspec": {
   "display_name": "Python 3 (ipykernel)",
   "language": "python",
   "name": "python3"
  },
  "language_info": {
   "codemirror_mode": {
    "name": "ipython",
    "version": 3
   },
   "file_extension": ".py",
   "mimetype": "text/x-python",
   "name": "python",
   "nbconvert_exporter": "python",
   "pygments_lexer": "ipython3",
   "version": "3.8.15"
  }
 },
 "nbformat": 4,
 "nbformat_minor": 5
}
