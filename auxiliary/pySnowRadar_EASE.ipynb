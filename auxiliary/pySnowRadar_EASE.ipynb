{
 "cells": [
  {
   "cell_type": "code",
   "execution_count": 1,
   "id": "7a2bd0bc",
   "metadata": {},
   "outputs": [
    {
     "name": "stderr",
     "output_type": "stream",
     "text": [
      "/var/folders/_1/fh2vf5m57871c546k_sf7xr80000gn/T/ipykernel_14978/3502479102.py:8: DeprecationWarning: Please use `KDTree` from the `scipy.spatial` namespace, the `scipy.spatial.kdtree` namespace is deprecated.\n",
      "  from scipy.spatial.kdtree import KDTree\n"
     ]
    }
   ],
   "source": [
    "import glob\n",
    "from netCDF4 import Dataset\n",
    "import matplotlib.pyplot as plt\n",
    "import cartopy\n",
    "import numpy as np\n",
    "import cartopy.crs as ccrs\n",
    "from pyproj import Proj, Transformer\n",
    "from scipy.spatial.kdtree import KDTree\n",
    "import datetime\n",
    "import os\n",
    "import xarray as xr\n",
    "import tqdm\n",
    "import warnings\n",
    "warnings.filterwarnings(\"ignore\")"
   ]
  },
  {
   "cell_type": "code",
   "execution_count": 2,
   "id": "4f90b61b",
   "metadata": {},
   "outputs": [],
   "source": [
    "def lonlat_to_xy(coords_1, coords_2, hemisphere, inverse=False):\n",
    "\n",
    "    \"\"\"Converts between longitude/latitude and EASE xy coordinates.\n",
    " \n",
    "    Args:\n",
    "        lon (float): WGS84 longitude\n",
    "        lat (float): WGS84 latitude\n",
    "        hemisphere (string): 'n' or 's'\n",
    "        inverse (bool): if true, converts xy to lon/lat\n",
    " \n",
    "    Returns:\n",
    "        tuple: pair of xy or lon/lat values\n",
    "    \"\"\"\n",
    "\n",
    "    EASE_Proj = {'n': 'EPSG:3408',\n",
    "                 's': 'EPGS:3409'}\n",
    "    \n",
    "    WGS_Proj = 'EPSG:4326'\n",
    "    \n",
    "    for coords in [coords_1, coords_2]: assert isinstance(coords,(np.ndarray,list))\n",
    "\n",
    "    if inverse == False: # lonlat to xy\n",
    "        \n",
    "        lon, lat = coords_1, coords_2\n",
    "        \n",
    "        transformer = Transformer.from_crs(WGS_Proj, EASE_Proj[hemisphere])\n",
    "        \n",
    "        x, y = transformer.transform(lat, lon)\n",
    "        \n",
    "        return (x, y)\n",
    "\n",
    "    else: # xy to lonlat\n",
    "        \n",
    "        x, y = coords_1, coords_2\n",
    "        \n",
    "        transformer = Transformer.from_crs(EASE_Proj[hemisphere], WGS_Proj)\n",
    "        \n",
    "        lat, lon = transformer.transform(x, y)\n",
    "        \n",
    "        return (lon, lat)"
   ]
  },
  {
   "cell_type": "code",
   "execution_count": 3,
   "id": "388140ed",
   "metadata": {},
   "outputs": [],
   "source": [
    "# load ease lons,lats:\n",
    "ease_lats = np.load('/Users/carmennab/Dropbox/alpha_retracker/data/auxiliary/lat_25km_cent.npy')\n",
    "ease_lons = np.load('/Users/carmennab/Dropbox/alpha_retracker/data/auxiliary/lon_25km_cent.npy')\n",
    "\n",
    "# convert into x,y:\n",
    "ease_x, ease_y = lonlat_to_xy(ease_lons,ease_lats,hemisphere='n')\n",
    "\n",
    "# create KDTree to find EASE grid cell closest to buoy:\n",
    "tree = KDTree(list(zip(ease_x.ravel(),ease_y.ravel())))"
   ]
  },
  {
   "cell_type": "code",
   "execution_count": 4,
   "id": "b62ded66",
   "metadata": {
    "scrolled": true
   },
   "outputs": [
    {
     "ename": "KeyboardInterrupt",
     "evalue": "",
     "output_type": "error",
     "traceback": [
      "\u001b[0;31m---------------------------------------------------------------------------\u001b[0m",
      "\u001b[0;31mOSError\u001b[0m                                   Traceback (most recent call last)",
      "    \u001b[0;31m[... skipping hidden 1 frame]\u001b[0m\n",
      "Input \u001b[0;32mIn [4]\u001b[0m, in \u001b[0;36m<cell line: 6>\u001b[0;34m()\u001b[0m\n\u001b[1;32m     12\u001b[0m \u001b[38;5;28;01mif\u001b[39;00m date \u001b[38;5;129;01min\u001b[39;00m f:\n\u001b[0;32m---> 14\u001b[0m     data \u001b[38;5;241m=\u001b[39m \u001b[43mDataset\u001b[49m\u001b[43m(\u001b[49m\u001b[43mdatapath\u001b[49m\u001b[38;5;241;43m+\u001b[39;49m\u001b[43mf\u001b[49m\u001b[43m)\u001b[49m\n\u001b[1;32m     16\u001b[0m     snow \u001b[38;5;241m=\u001b[39m np\u001b[38;5;241m.\u001b[39marray(data[\u001b[38;5;124m'\u001b[39m\u001b[38;5;124msnow_depth\u001b[39m\u001b[38;5;124m'\u001b[39m])\n",
      "File \u001b[0;32msrc/netCDF4/_netCDF4.pyx:2307\u001b[0m, in \u001b[0;36mnetCDF4._netCDF4.Dataset.__init__\u001b[0;34m()\u001b[0m\n",
      "File \u001b[0;32msrc/netCDF4/_netCDF4.pyx:1925\u001b[0m, in \u001b[0;36mnetCDF4._netCDF4._ensure_nc_success\u001b[0;34m()\u001b[0m\n",
      "\u001b[0;31mOSError\u001b[0m: [Errno -101] NetCDF: HDF error: b'/Users/carmennab/cpom_server/home/cjn/pySnowRadar/OIB_processed/Data_20180403_01_211.mat.nc'",
      "\nDuring handling of the above exception, another exception occurred:\n",
      "\u001b[0;31mKeyboardInterrupt\u001b[0m                         Traceback (most recent call last)",
      "\u001b[0;31mKeyboardInterrupt\u001b[0m: "
     ]
    }
   ],
   "source": [
    "datapath = '/Users/carmennab/cpom_server/home/cjn/pySnowRadar/Arctic/OIB_processed/'\n",
    "\n",
    "days = np.arange(0,4018)\n",
    "dates = [datetime.date(2010,1,1)+datetime.timedelta(days=np.int(days)) for days in days]\n",
    "\n",
    "for day in days:\n",
    "    oib_snow = np.full((ease_x.shape),np.nan)\n",
    "    inds_sn = {}\n",
    "    date = dates[day].strftime('%Y%m%d')\n",
    " \n",
    "    for f in os.listdir(datapath):\n",
    "        if date in f:\n",
    "\n",
    "            data = Dataset(datapath+f)\n",
    "\n",
    "            snow = np.array(data['snow_depth'])\n",
    "            oib_lons = np.array(data['lon'])\n",
    "            oib_lats = np.array(data['lat'])\n",
    "            snow[snow>1.5] = np.nan\n",
    "\n",
    "            oib_x,oib_y = lonlat_to_xy(oib_lons,oib_lats,hemisphere='n') \n",
    "\n",
    "            for x,y,sn in zip(oib_x,oib_y,snow):\n",
    "\n",
    "                dist, ind = tree.query([x,y])\n",
    "\n",
    "                ind2d = np.unravel_index(ind, (ease_lats.shape[0],ease_lats.shape[1]))\n",
    "\n",
    "                if ind2d in inds_sn.keys():\n",
    "                    inds_sn[ind2d].append(sn)\n",
    "                else:   \n",
    "                    inds_sn[ind2d] = [sn]\n",
    "\n",
    "    for key in inds_sn.keys():\n",
    "        oib_snow[key[0],key[1]]=np.nanmean(inds_sn[key])\n",
    "\n",
    "    if (oib_snow[~np.isnan(oib_snow)].shape[0]>0):\n",
    "\n",
    "#         plt.hist(oib_snow.ravel())\n",
    "#         plt.show()\n",
    "        \n",
    "#         fig = plt.figure(figsize=(10,10))\n",
    "#         ax1 = fig.add_subplot(projection=ccrs.NorthPolarStereo())\n",
    "#         ax1.add_feature(cartopy.feature.LAND, color='darkgrey',zorder=1)\n",
    "#         ax1.add_feature(cartopy.feature.OCEAN, color='gainsboro', edgecolor='black')\n",
    "#         ax1.coastlines()\n",
    "#         ax1.set_extent([-180, 180, 90, 65], ccrs.PlateCarree())\n",
    "#         p_map = ax1.pcolormesh(ease_lons,ease_lats,oib_snow[:-1,:-1],transform=ccrs.PlateCarree())\n",
    "#         plt.show()\n",
    "        \n",
    "        filepath = '/Users/carmennab/Dropbox/alpha_retracker/data/pySnowRadar_EASE/'+date+'.nc'\n",
    "        ! rm {filepath} \n",
    "        data_vars =  {'Snow Depth':(['x','y'],oib_snow)}\n",
    "        ds = xr.Dataset(data_vars = data_vars,\n",
    "                        coords={'Longitude':(['x','y'],ease_lons),\n",
    "                                'Latitude':(['x','y'],ease_lats)},\n",
    "                        )\n",
    "        ds.to_netcdf(filepath,'w')"
   ]
  }
 ],
 "metadata": {
  "kernelspec": {
   "display_name": "Python 3 (ipykernel)",
   "language": "python",
   "name": "python3"
  },
  "language_info": {
   "codemirror_mode": {
    "name": "ipython",
    "version": 3
   },
   "file_extension": ".py",
   "mimetype": "text/x-python",
   "name": "python",
   "nbconvert_exporter": "python",
   "pygments_lexer": "ipython3",
   "version": "3.8.15"
  }
 },
 "nbformat": 4,
 "nbformat_minor": 5
}
