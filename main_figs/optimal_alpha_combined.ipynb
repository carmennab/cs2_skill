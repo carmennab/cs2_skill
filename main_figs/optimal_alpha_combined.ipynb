{
 "cells": [
  {
   "cell_type": "code",
   "execution_count": 1,
   "id": "edb695eb",
   "metadata": {},
   "outputs": [],
   "source": [
    "import numpy as np\n",
    "import datetime\n",
    "from netCDF4 import Dataset\n",
    "import itertools\n",
    "import matplotlib.pyplot as plt\n",
    "from matplotlib import gridspec\n",
    "import tqdm\n",
    "from scipy.stats import linregress\n",
    "import warnings\n",
    "warnings.filterwarnings(\"ignore\")"
   ]
  },
  {
   "cell_type": "code",
   "execution_count": 2,
   "id": "9ff30dc1",
   "metadata": {},
   "outputs": [],
   "source": [
    "# create days and dates list from 01/10/2010 - 30/04/2011\n",
    "days_short = np.arange(0,212)\n",
    "dates_short = [datetime.date(2010,10,1)+datetime.timedelta(days=np.int(days)) for days in days_short]\n",
    "doys_short = np.array([x.timetuple().tm_yday for x in dates_short])\n",
    "# create days and dates list from 01/01/2010 - 30/04/2021\n",
    "days_long = np.arange(0,4138)\n",
    "dates_long = [datetime.date(2010,1,1)+datetime.timedelta(days=np.int(days)) for days in days_long]\n",
    "doys_long = np.array([x.timetuple().tm_yday for x in dates_long])"
   ]
  },
  {
   "cell_type": "markdown",
   "id": "4e54b55e",
   "metadata": {},
   "source": [
    "### load buoy data and create buoy climatology"
   ]
  },
  {
   "cell_type": "code",
   "execution_count": 3,
   "id": "d2398371",
   "metadata": {},
   "outputs": [],
   "source": [
    "datapath = '/Users/carmennab/Dropbox/alpha_retracker/data/validation/BGEP/'\n",
    "bgep_a = np.asarray(Dataset(datapath+'ULS_A/SIT_EASE_01Jan2010-31Jul2021.nc')['Sea Ice Thickness'])[:4138]\n",
    "bgep_b = np.asarray(Dataset(datapath+'ULS_B/SIT_EASE_01Jan2010-31Jul2021.nc')['Sea Ice Thickness'])[:4138]\n",
    "bgep_d = np.asarray(Dataset(datapath+'ULS_D/SIT_EASE_01Jan2010-31Jul2021.nc')['Sea Ice Thickness'])[:4138]"
   ]
  },
  {
   "cell_type": "code",
   "execution_count": 4,
   "id": "6d6ad832",
   "metadata": {},
   "outputs": [],
   "source": [
    "days = np.arange(0,367)\n",
    "buoya_avs = np.array([np.nanmean(bgep_a[doys_long==day]) for day in days])\n",
    "buoyb_avs = np.array([np.nanmean(bgep_b[doys_long==day]) for day in days])\n",
    "buoyd_avs = np.array([np.nanmean(bgep_d[doys_long==day]) for day in days])\n",
    "\n",
    "buoy_clims = np.array([buoya_avs,buoyb_avs,buoyd_avs])\n",
    "buoy_clim = np.nanmean(buoy_clims,axis=0) ### climatology\n",
    "\n",
    "buoy_meanss = np.array([bgep_a,bgep_b,bgep_d])\n",
    "buoy_means = np.nanmean(buoy_meanss,axis=0)  \n",
    "buoy_anoms = np.array([buoy-buoy_clim[doy] for doy,buoy in zip(doys_long,buoy_means)])"
   ]
  },
  {
   "cell_type": "markdown",
   "id": "a89fe669",
   "metadata": {},
   "source": [
    "### calculate optimal alpha for full season"
   ]
  },
  {
   "cell_type": "code",
   "execution_count": 5,
   "id": "10c1c142",
   "metadata": {},
   "outputs": [],
   "source": [
    "#### one giant buoy\n",
    "datapath = '/Users/carmennab/Dropbox/alpha_retracker/data/sit/'\n",
    "names = ['CPOM','AWI']\n",
    "alphas = np.arange(0,101)\n",
    "all_rs = {}\n",
    "\n",
    "for name in names:\n",
    "    rs = np.full(101,np.nan)\n",
    "    for alpha in alphas:\n",
    "        a = np.asarray(Dataset(datapath+'SMLG_'+name+'/ULS_A/a'+str(alpha)+'.nc')['Sea Ice Thickness'])\n",
    "        b = np.asarray(Dataset(datapath+'SMLG_'+name+'/ULS_B/a'+str(alpha)+'.nc')['Sea Ice Thickness'])\n",
    "        d = np.asarray(Dataset(datapath+'SMLG_'+name+'/ULS_D/a'+str(alpha)+'.nc')['Sea Ice Thickness'])\n",
    "\n",
    "        ### create daily climatology for cs2\n",
    "        cs2a_avs = np.array([np.nanmean(a[doys_long==day]) for day in days])\n",
    "        cs2b_avs = np.array([np.nanmean(b[doys_long==day]) for day in days])\n",
    "        cs2d_avs = np.array([np.nanmean(d[doys_long==day]) for day in days])\n",
    "    \n",
    "        cs2_clims = np.array([cs2a_avs,cs2b_avs,cs2d_avs])\n",
    "        cs2_clim = np.nanmean(cs2_clims,axis=0) ### climatology\n",
    "        \n",
    "        cs2_meanss = np.array([a,b,d])\n",
    "        cs2_means = np.nanmean(cs2_meanss,axis=0) ### giant cs2 data  \n",
    "        \n",
    "        ### create daily anomalies for cs2\n",
    "        cs2_anoms = np.array([cs2-cs2_clim[doy] for doy,cs2 in zip(doys_long,cs2_means)]) \n",
    "        \n",
    "        ### calculate alpha\n",
    "        mask = ~np.isnan(buoy_anoms) & ~np.isnan(cs2_anoms)\n",
    "        rstats = linregress(buoy_anoms[mask],cs2_anoms[mask]) \n",
    "        p = rstats.pvalue\n",
    "        if p <=0.05:\n",
    "            rs[alpha] = rstats.rvalue\n",
    "            \n",
    "    rs[rs<0] = np.nan\n",
    "    all_rs[name] = rs"
   ]
  },
  {
   "cell_type": "code",
   "execution_count": 6,
   "id": "d8da21b1",
   "metadata": {},
   "outputs": [],
   "source": [
    "ns = []\n",
    "ns.append(buoy_anoms[~np.isnan(buoy_anoms)].shape[0])"
   ]
  },
  {
   "cell_type": "markdown",
   "id": "b26997dd",
   "metadata": {},
   "source": [
    "### calculate optimal alpha over FYI / MYI"
   ]
  },
  {
   "cell_type": "code",
   "execution_count": 7,
   "id": "17617278",
   "metadata": {},
   "outputs": [],
   "source": [
    "datapath = '/Users/carmennab/Dropbox/alpha_retracker/data/icetype/'\n",
    "it_a = np.array(Dataset(datapath + 'ULS_A.nc')['Ice Type'])\n",
    "it_b = np.array(Dataset(datapath + 'ULS_B.nc')['Ice Type'])\n",
    "it_d = np.array(Dataset(datapath + 'ULS_D.nc')['Ice Type'])\n",
    "icetype = np.nanmean(np.array([it_a,it_b,it_d]),axis = 0)\n",
    "\n",
    "icetype[icetype<2.5] = 2 # fyi\n",
    "icetype[icetype>=2.5] = 3 # myi"
   ]
  },
  {
   "cell_type": "code",
   "execution_count": 8,
   "id": "c1910fe5",
   "metadata": {},
   "outputs": [],
   "source": [
    "fyi_buoys = buoy_anoms.copy()\n",
    "fyi_buoys[icetype == 3] = np.nan # remove myi\n",
    "fyi_buoys[np.isnan(icetype)] = np.nan\n",
    "ns.append(fyi_buoys[~np.isnan(fyi_buoys)].shape[0])\n",
    "\n",
    "myi_buoys = buoy_anoms.copy()\n",
    "myi_buoys[icetype == 2] = np.nan # remove fyi\n",
    "myi_buoys[np.isnan(icetype)] = np.nan\n",
    "ns.append(myi_buoys[~np.isnan(myi_buoys)].shape[0])"
   ]
  },
  {
   "cell_type": "code",
   "execution_count": 9,
   "id": "85e761c8",
   "metadata": {},
   "outputs": [],
   "source": [
    "#### one giant buoy\n",
    "datapath = '/Users/carmennab/Dropbox/alpha_retracker/data/sit/'\n",
    "names = ['CPOM','AWI']\n",
    "alphas = np.arange(0,101)\n",
    "all_fyi = {}\n",
    "all_myi = {}\n",
    "\n",
    "for name in names:\n",
    "    rs_fyi = np.full(101,np.nan)\n",
    "    rs_myi = np.full(101,np.nan)\n",
    "\n",
    "    for alpha in alphas:\n",
    "        a = np.asarray(Dataset(datapath+'SMLG_'+name+'/ULS_A/a'+str(alpha)+'.nc')['Sea Ice Thickness'])\n",
    "        b = np.asarray(Dataset(datapath+'SMLG_'+name+'/ULS_B/a'+str(alpha)+'.nc')['Sea Ice Thickness'])\n",
    "        d = np.asarray(Dataset(datapath+'SMLG_'+name+'/ULS_D/a'+str(alpha)+'.nc')['Sea Ice Thickness'])\n",
    "\n",
    "        ### create daily climatology for cs2\n",
    "        cs2a_avs = np.array([np.nanmean(a[doys_long==day]) for day in days])\n",
    "        cs2b_avs = np.array([np.nanmean(b[doys_long==day]) for day in days])\n",
    "        cs2d_avs = np.array([np.nanmean(d[doys_long==day]) for day in days])\n",
    "    \n",
    "        cs2_clims = np.array([cs2a_avs,cs2b_avs,cs2d_avs])\n",
    "        cs2_clim = np.nanmean(cs2_clims,axis=0) ### climatology\n",
    "        \n",
    "        cs2_meanss = np.array([a,b,d])\n",
    "        cs2_means = np.nanmean(cs2_meanss,axis=0) ### giant cs2 data  \n",
    "        \n",
    "        ### create daily anomalies for cs2\n",
    "        cs2_anoms = np.array([cs2-cs2_clim[doy] for doy,cs2 in zip(doys_long,cs2_means)]) \n",
    "        \n",
    "        ### calculate alpha fyi: \n",
    "        mask_fyi = ~np.isnan(fyi_buoys) & ~np.isnan(cs2_anoms) \n",
    "        rstats = linregress(fyi_buoys[mask_fyi],cs2_anoms[mask_fyi]) \n",
    "        p = rstats.pvalue\n",
    "        if p <=0.05:\n",
    "            rs_fyi[alpha] = rstats.rvalue\n",
    "                        \n",
    "        ### calculate alpha myi:\n",
    "        mask_myi = ~np.isnan(myi_buoys) & ~np.isnan(cs2_anoms)\n",
    "        rstats = linregress(myi_buoys[mask_myi],cs2_anoms[mask_myi]) \n",
    "        p = rstats.pvalue\n",
    "        if p <=0.05:\n",
    "            rs_myi[alpha] = rstats.rvalue\n",
    "            \n",
    "    rs_fyi[rs_fyi<0] = np.nan\n",
    "    rs_myi[rs_myi<0] = np.nan\n",
    "                        \n",
    "    all_fyi[name] = rs_fyi\n",
    "    all_myi[name] = rs_myi"
   ]
  },
  {
   "cell_type": "markdown",
   "id": "9f860285",
   "metadata": {},
   "source": [
    "### calculate optimal alpha at different temperatures"
   ]
  },
  {
   "cell_type": "code",
   "execution_count": 10,
   "id": "ecad4f5b",
   "metadata": {},
   "outputs": [],
   "source": [
    "datapath = '/Users/carmennab/Dropbox/alpha_retracker/data/temperature/'\n",
    "temp_a = np.array(Dataset(datapath + 'ERA5_temp_ULS_A.nc')['Air Temperature'])\n",
    "temp_b = np.array(Dataset(datapath + 'ERA5_temp_ULS_B.nc')['Air Temperature'])\n",
    "temp_d = np.array(Dataset(datapath + 'ERA5_temp_ULS_D.nc')['Air Temperature'])\n",
    "temps = np.nanmean(np.array([temp_a,temp_b,temp_d]),axis = 0)"
   ]
  },
  {
   "cell_type": "code",
   "execution_count": 11,
   "id": "33dc856b",
   "metadata": {},
   "outputs": [],
   "source": [
    "q = np.quantile(temps.ravel()[~np.isnan(temps.ravel())],q=np.arange(0,1.01,0.33))\n",
    "\n",
    "cold_buoys = buoy_anoms.copy()\n",
    "cold_buoys[temps >= q[1]] = np.nan \n",
    "cold_buoys[temps < q[0]] = np.nan \n",
    "cold_buoys[np.isnan(temps)] = np.nan\n",
    "ns.append(cold_buoys[~np.isnan(cold_buoys)].shape[0])\n",
    "\n",
    "warm_buoys = buoy_anoms.copy()\n",
    "warm_buoys[temps>= q[2]] = np.nan \n",
    "warm_buoys[temps< q[1]] = np.nan \n",
    "warm_buoys[np.isnan(temps)] = np.nan\n",
    "ns.append(warm_buoys[~np.isnan(warm_buoys)].shape[0])\n",
    "\n",
    "hot_buoys = buoy_anoms.copy()\n",
    "hot_buoys[temps > q[3]] = np.nan\n",
    "hot_buoys[temps < q[2]] = np.nan \n",
    "hot_buoys[np.isnan(temps)] = np.nan\n",
    "ns.append(hot_buoys[~np.isnan(hot_buoys)].shape[0])"
   ]
  },
  {
   "cell_type": "code",
   "execution_count": 12,
   "id": "654b0ece",
   "metadata": {},
   "outputs": [],
   "source": [
    "#### one giant buoy\n",
    "datapath = '/Users/carmennab/Dropbox/alpha_retracker/data/sit/'\n",
    "names = ['CPOM','AWI']\n",
    "alphas = np.arange(0,101)\n",
    "all_hot = {}\n",
    "all_warm = {}\n",
    "all_cold = {}\n",
    "\n",
    "for name in names:\n",
    "    rs_hot = np.full(101,np.nan)\n",
    "    rs_warm = np.full(101,np.nan)\n",
    "    rs_cold = np.full(101,np.nan)\n",
    "    for alpha in alphas:\n",
    "        a = np.asarray(Dataset(datapath+'SMLG_'+name+'/ULS_A/a'+str(alpha)+'.nc')['Sea Ice Thickness'])\n",
    "        b = np.asarray(Dataset(datapath+'SMLG_'+name+'/ULS_B/a'+str(alpha)+'.nc')['Sea Ice Thickness'])\n",
    "        d = np.asarray(Dataset(datapath+'SMLG_'+name+'/ULS_D/a'+str(alpha)+'.nc')['Sea Ice Thickness'])\n",
    "\n",
    "        ### create daily climatology for cs2\n",
    "        cs2a_avs = np.array([np.nanmean(a[doys_long==day]) for day in days])\n",
    "        cs2b_avs = np.array([np.nanmean(b[doys_long==day]) for day in days])\n",
    "        cs2d_avs = np.array([np.nanmean(d[doys_long==day]) for day in days])\n",
    "    \n",
    "        cs2_clims = np.array([cs2a_avs,cs2b_avs,cs2d_avs])\n",
    "        cs2_clim = np.nanmean(cs2_clims,axis=0) ### climatology\n",
    "        \n",
    "        cs2_meanss = np.array([a,b,d])\n",
    "        cs2_means = np.nanmean(cs2_meanss,axis=0) ### giant cs2 data  \n",
    "        \n",
    "        ### create daily anomalies for cs2\n",
    "        cs2_anoms = np.array([cs2-cs2_clim[doy] for doy,cs2 in zip(doys_long,cs2_means)]) \n",
    "        \n",
    "        ### calculate alpha hot:  upper tercile\n",
    "        mask_hot = ~np.isnan(hot_buoys) & ~np.isnan(cs2_anoms) \n",
    "        rstats = linregress(hot_buoys[mask_hot],cs2_anoms[mask_hot]) \n",
    "        p = rstats.pvalue\n",
    "        if p <=0.05:\n",
    "            rs_hot[alpha] = rstats.rvalue\n",
    "                        \n",
    "        ### calculate alpha warm: middle tercile\n",
    "        mask_warm = ~np.isnan(warm_buoys) & ~np.isnan(cs2_anoms)\n",
    "\n",
    "        rstats = linregress(warm_buoys[mask_warm],cs2_anoms[mask_warm]) \n",
    "        p = rstats.pvalue\n",
    "        if p <=0.05:\n",
    "            rs_warm[alpha] = rstats.rvalue\n",
    "\n",
    "        ### calculate alpha cold: lower tercile\n",
    "        mask_cold = ~np.isnan(cold_buoys) & ~np.isnan(cs2_anoms)\n",
    "        rstats = linregress(cold_buoys[mask_cold],cs2_anoms[mask_cold]) \n",
    "        p = rstats.pvalue\n",
    "        if p <=0.05:\n",
    "            rs_cold[alpha] = rstats.rvalue\n",
    "            \n",
    "    rs_hot[rs_hot<0] = np.nan\n",
    "    rs_warm[rs_warm<0] = np.nan\n",
    "    rs_cold[rs_cold<0] = np.nan\n",
    "                        \n",
    "    all_hot[name] = rs_hot\n",
    "    all_warm[name] = rs_warm\n",
    "    all_cold[name] = rs_cold"
   ]
  },
  {
   "cell_type": "markdown",
   "id": "b930d9a9",
   "metadata": {},
   "source": [
    "### plot figures showing all results"
   ]
  },
  {
   "cell_type": "code",
   "execution_count": 13,
   "id": "7c437806",
   "metadata": {},
   "outputs": [
    {
     "data": {
      "image/png": "[encoded data removed]",
      "text/plain": [
       "<Figure size 648x648 with 6 Axes>"
      ]
     },
     "metadata": {
      "needs_background": "light"
     },
     "output_type": "display_data"
    }
   ],
   "source": [
    "fig = plt.figure(figsize=(9,9))\n",
    "plt.rcParams.update({'mathtext.default':  'regular' })\n",
    "plt.rc('font', size=8)\n",
    "spec = gridspec.GridSpec(ncols=3, nrows=3, wspace=0.1, hspace=0.2)\n",
    "names = ['Combined','FYI','MYI',\n",
    "         '-34\\u00B0C < T < -24\\u00B0C','-24\\u00B0C <T < -17\\u00B0C','-17\\u00B0C < T < 0\\u00B0C']\n",
    "nums = ['(a)','(b)','(c)','(d)','(e)','(f)']\n",
    "rs = [all_rs, all_fyi,all_myi,all_cold,all_warm,all_hot]\n",
    "\n",
    "for c,r in enumerate(rs):\n",
    "    ax = plt.subplot(spec[c])\n",
    "    ax.plot(alphas/100, r['CPOM'],label = 'CPOM',color='#5aae61')\n",
    "    ax.plot((np.nanargmax(r['CPOM'])/100),np.nanmax(r['CPOM']),'x',color='#5aae61')\n",
    "    ax.plot(alphas/100, r['AWI'],label = 'AWI',color='#9970ab')\n",
    "    ax.plot((np.nanargmax(r['AWI'])/100),np.nanmax(r['AWI']),'x',color='#9970ab')\n",
    "    ax.text(0.81, 0.9, f\"\\u03B1$_O$ = {(np.nanargmax(r['CPOM'])/100):.2f}\", ha='center',color='#5aae61',\n",
    "            weight='bold',transform = ax.transAxes)\n",
    "    ax.text(0.81, 0.82, f\"\\u03B1$_O$ = {(np.nanargmax(r['AWI'])/100):.2f}\", ha='center',color='#9970ab',\n",
    "            weight='bold',transform = ax.transAxes)\n",
    "    ax.text(0.04, 1.05,nums[c], ha='center',color='k',weight='bold',transform = ax.transAxes,fontsize=10)\n",
    "    ax.text(0.17, 0.92,f\"n = {ns[c]}\", ha='center',color='k',transform = ax.transAxes,fontsize=10)\n",
    "    \n",
    "    ax.set_xlim([0,1])\n",
    "    if c == 0:\n",
    "        [x.set_linewidth(1.5) for x in ax.spines.values()]\n",
    "        ax.set_title(names[c],weight = 'bold',fontsize=11)\n",
    "    else:\n",
    "        ax.set_title(names[c],fontsize=11)\n",
    "    if c<3:\n",
    "        ax.set_xticks([])\n",
    "    if c in [1,2,4,5]:\n",
    "        ax.set_yticks([])\n",
    "    if c in [3,4,5]:\n",
    "        ax.set_xlabel('Radar Penetration (\\u03B1)',labelpad=10,fontsize=10)\n",
    "    ax.set_ylim([0,1])\n",
    "    if c in [0,3]:\n",
    "        ax.set_ylabel('Linear Correlation\\nCoefficient (r)',labelpad=10,fontsize=10)\n",
    "    \n",
    "    if c == 5:\n",
    "        ax.legend(loc='lower right')\n",
    "          \n",
    "plt.savefig('/Users/carmennab/Dropbox/Apps/Overleaf/Alpha Retracker/main_figs/optimal_alpha_combined.jpg',\n",
    "            bbox_inches = \"tight\", dpi = 400) "
   ]
  }
 ],
 "metadata": {
  "kernelspec": {
   "display_name": "Python 3 (ipykernel)",
   "language": "python",
   "name": "python3"
  },
  "language_info": {
   "codemirror_mode": {
    "name": "ipython",
    "version": 3
   },
   "file_extension": ".py",
   "mimetype": "text/x-python",
   "name": "python",
   "nbconvert_exporter": "python",
   "pygments_lexer": "ipython3",
   "version": "3.8.15"
  }
 },
 "nbformat": 4,
 "nbformat_minor": 5
}
